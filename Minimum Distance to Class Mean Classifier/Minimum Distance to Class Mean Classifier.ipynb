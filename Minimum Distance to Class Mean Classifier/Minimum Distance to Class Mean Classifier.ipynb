{
  "nbformat": 4,
  "nbformat_minor": 0,
  "metadata": {
    "colab": {
      "name": "PRAssm1_053.ipynb",
      "provenance": [],
      "collapsed_sections": []
    },
    "kernelspec": {
      "name": "python3",
      "display_name": "Python 3"
    }
  },
  "cells": [
    {
      "cell_type": "code",
      "metadata": {
        "colab": {
          "base_uri": "https://localhost:8080/"
        },
        "id": "i6S97lmjnc9-",
        "outputId": "ce0c62cd-3892-4a88-db3e-c31c414bec4b"
      },
      "source": [
        "from google.colab import drive\r\n",
        "drive.mount('/content/drive')"
      ],
      "execution_count": 7,
      "outputs": [
        {
          "output_type": "stream",
          "text": [
            "Drive already mounted at /content/drive; to attempt to forcibly remount, call drive.mount(\"/content/drive\", force_remount=True).\n"
          ],
          "name": "stdout"
        }
      ]
    },
    {
      "cell_type": "markdown",
      "metadata": {
        "id": "izUAwBzsoWaU"
      },
      "source": [
        "Read from txt & store in dataframe."
      ]
    },
    {
      "cell_type": "code",
      "metadata": {
        "id": "FfpdL88DsCLj"
      },
      "source": [
        "import pandas as pd \r\n",
        "df=pd.read_csv('/content/drive/MyDrive/train.txt',sep='\\s+',header=None)\r\n",
        "df = pd.DataFrame(df)"
      ],
      "execution_count": 8,
      "outputs": []
    },
    {
      "cell_type": "markdown",
      "metadata": {
        "id": "t193MYqOov-S"
      },
      "source": [
        "Plotting training samples."
      ]
    },
    {
      "cell_type": "code",
      "metadata": {
        "colab": {
          "base_uri": "https://localhost:8080/",
          "height": 283
        },
        "id": "i83R_Or_siZD",
        "outputId": "da03dbbf-64c1-41ad-ded4-989f8318e193"
      },
      "source": [
        "import matplotlib\r\n",
        "import matplotlib.pyplot as plt\r\n",
        "import numpy as np\r\n",
        "x = df[0]\r\n",
        "y = df[1]\r\n",
        "L = df[2]\r\n",
        "\r\n",
        "plt.scatter(x[L==1], y[L==1], marker='o', c='red',label='Train Class 1')\r\n",
        "plt.scatter(x[L==2], y[L==2], marker='*', c='black',label='Train Class 2')"
      ],
      "execution_count": 9,
      "outputs": [
        {
          "output_type": "execute_result",
          "data": {
            "text/plain": [
              "<matplotlib.collections.PathCollection at 0x7f68d44cd208>"
            ]
          },
          "metadata": {
            "tags": []
          },
          "execution_count": 9
        },
        {
          "output_type": "display_data",
          "data": {
            "image/png": "[encoded data removed]",
            "text/plain": [
              "<Figure size 432x288 with 1 Axes>"
            ]
          },
          "metadata": {
            "tags": [],
            "needs_background": "light"
          }
        }
      ]
    },
    {
      "cell_type": "markdown",
      "metadata": {
        "id": "UVL_eqCtpBn8"
      },
      "source": [
        "Calculating mean for each class"
      ]
    },
    {
      "cell_type": "code",
      "metadata": {
        "colab": {
          "base_uri": "https://localhost:8080/"
        },
        "id": "5a8laVbf5i2E",
        "outputId": "3f4995c0-5385-491a-af4d-8fbe4d360e7f"
      },
      "source": [
        "import pandas as pd\r\n",
        "\r\n",
        "meanx1 =  np.average(df[0], weights=(df[2] == 1))\r\n",
        "meany1 =  np.average(df[1], weights=(df[2] == 1))\r\n",
        "meanx2 =  np.average(df[0], weights=(df[2] == 2))\r\n",
        "meany2 =  np.average(df[1], weights=(df[2] == 2))\r\n",
        "\r\n",
        "print(df)\r\n",
        "print(meanx1)\r\n",
        "print(meany1)\r\n",
        "print(meanx2)\r\n",
        "print(meany2)"
      ],
      "execution_count": 10,
      "outputs": [
        {
          "output_type": "stream",
          "text": [
            "    0  1  2\n",
            "0   2  2  1\n",
            "1   3  1  1\n",
            "2  -4  3  2\n",
            "3   3  3  1\n",
            "4  -1 -3  1\n",
            "5   2  6  2\n",
            "6   4  2  1\n",
            "7  -2 -2  1\n",
            "8   0  0  2\n",
            "9  -2  2  2\n",
            "10 -1 -1  2\n",
            "11 -4  2  2\n",
            "1.5\n",
            "0.5\n",
            "-1.5\n",
            "2.0\n"
          ],
          "name": "stdout"
        }
      ]
    },
    {
      "cell_type": "code",
      "metadata": {
        "colab": {
          "base_uri": "https://localhost:8080/",
          "height": 283
        },
        "id": "6dD_VtgJwMHm",
        "outputId": "4f0d4f15-435c-41f1-a037-310b631427fe"
      },
      "source": [
        "plt.plot(meanx1,meany1, marker='1', c='red',label='Mean Class 1')\r\n",
        "\r\n",
        "plt.plot(meanx2,meany2, marker='s', c='black',label='Mean Class 2')\r\n",
        "\r\n",
        "plt.scatter(x[L==1], y[L==1], marker='o', c='red',label='Train Class 1')\r\n",
        "plt.scatter(x[L==2], y[L==2], marker='*', c='black',label='Train Class 2')\r\n"
      ],
      "execution_count": 11,
      "outputs": [
        {
          "output_type": "execute_result",
          "data": {
            "text/plain": [
              "<matplotlib.collections.PathCollection at 0x7f68d4493710>"
            ]
          },
          "metadata": {
            "tags": []
          },
          "execution_count": 11
        },
        {
          "output_type": "display_data",
          "data": {
            "image/png": "[encoded data removed]",
            "text/plain": [
              "<Figure size 432x288 with 1 Axes>"
            ]
          },
          "metadata": {
            "tags": [],
            "needs_background": "light"
          }
        }
      ]
    },
    {
      "cell_type": "markdown",
      "metadata": {
        "id": "KP7rHNH1pOFK"
      },
      "source": [
        "Read from test.txt"
      ]
    },
    {
      "cell_type": "code",
      "metadata": {
        "id": "pisArRHjzgzt"
      },
      "source": [
        "df2=pd.read_csv('/content/drive/MyDrive/test.txt',sep='\\s+',header=None)\r\n",
        "df2 = pd.DataFrame(df2)"
      ],
      "execution_count": 12,
      "outputs": []
    },
    {
      "cell_type": "markdown",
      "metadata": {
        "id": "hQFXgTuapcpy"
      },
      "source": [
        "Creating np array to store only co-ordinates of test data."
      ]
    },
    {
      "cell_type": "code",
      "metadata": {
        "id": "TNUacHkj1hpn"
      },
      "source": [
        "npa1=df.to_numpy()\r\n",
        "npa2=df2.to_numpy()"
      ],
      "execution_count": 13,
      "outputs": []
    },
    {
      "cell_type": "code",
      "metadata": {
        "id": "jVwfHqJ71ayk"
      },
      "source": [
        "Nnpa1 = []\r\n",
        "for i, row in enumerate(npa1):            \r\n",
        "    N_row = []                          \r\n",
        "    for j, element in enumerate(row):  \r\n",
        "        if j!=2:\r\n",
        "            N_row.append(element)        \r\n",
        "    Nnpa1.append(N_row)                     \r\n",
        "\r\n",
        "# print(Nnpa2)\r\n",
        "Nnpa1=np.array(Nnpa1)"
      ],
      "execution_count": 25,
      "outputs": []
    },
    {
      "cell_type": "code",
      "metadata": {
        "id": "sYISm5YADguJ"
      },
      "source": [
        "Nnpa2 = []\r\n",
        "for i, row in enumerate(npa2):            \r\n",
        "    N_row = []                          \r\n",
        "    for j, element in enumerate(row):  \r\n",
        "        if j!=2:\r\n",
        "            N_row.append(element)        \r\n",
        "    Nnpa2.append(N_row)                     \r\n",
        "\r\n",
        "Nnpa2=np.array(Nnpa2)"
      ],
      "execution_count": 26,
      "outputs": []
    },
    {
      "cell_type": "code",
      "metadata": {
        "colab": {
          "base_uri": "https://localhost:8080/"
        },
        "id": "HsaDPdDUFYxp",
        "outputId": "1ce8062f-56cf-42f3-fc3c-e1ec437ed2b2"
      },
      "source": [
        "print(Nnpa2)"
      ],
      "execution_count": 27,
      "outputs": [
        {
          "output_type": "stream",
          "text": [
            "[[-1 -5]\n",
            " [ 3  2]\n",
            " [-2  1]\n",
            " [ 8  2]\n",
            " [ 6 -1]\n",
            " [ 0  2]\n",
            " [-3  0]]\n"
          ],
          "name": "stdout"
        }
      ]
    },
    {
      "cell_type": "code",
      "metadata": {
        "id": "r-JkT9vK2A4F"
      },
      "source": [
        "m1=np.zeros\r\n",
        "m2=np.zeros"
      ],
      "execution_count": 28,
      "outputs": []
    },
    {
      "cell_type": "code",
      "metadata": {
        "id": "qcQ_oEai3P3l"
      },
      "source": [
        "me1=[]\r\n",
        "me2=[]\r\n",
        "me1.extend([meanx1,meany1])\r\n",
        "me2.extend([meanx2,meany2])"
      ],
      "execution_count": 29,
      "outputs": []
    },
    {
      "cell_type": "code",
      "metadata": {
        "id": "M6cRZDFB4MQl"
      },
      "source": [
        "m1=np.array(me1)\r\n",
        "m2=np.array(me2)"
      ],
      "execution_count": 30,
      "outputs": []
    },
    {
      "cell_type": "code",
      "metadata": {
        "id": "bkF7zjJV4W-t"
      },
      "source": [
        "m1=m1.reshape(1,2)\r\n",
        "m2=m2.reshape(1,2)"
      ],
      "execution_count": 31,
      "outputs": []
    },
    {
      "cell_type": "code",
      "metadata": {
        "colab": {
          "base_uri": "https://localhost:8080/"
        },
        "id": "QoSk00dc8GAH",
        "outputId": "597ed109-c8b6-4fb6-8c1f-5d74cd7ddadf"
      },
      "source": [
        "m1.shape"
      ],
      "execution_count": 32,
      "outputs": [
        {
          "output_type": "execute_result",
          "data": {
            "text/plain": [
              "(1, 2)"
            ]
          },
          "metadata": {
            "tags": []
          },
          "execution_count": 32
        }
      ]
    },
    {
      "cell_type": "code",
      "metadata": {
        "colab": {
          "base_uri": "https://localhost:8080/"
        },
        "id": "CvJzOE946Y-Q",
        "outputId": "7ee08989-cdd3-430b-c759-d83dbab09d77"
      },
      "source": [
        "npa2.shape"
      ],
      "execution_count": 33,
      "outputs": [
        {
          "output_type": "execute_result",
          "data": {
            "text/plain": [
              "(7, 3)"
            ]
          },
          "metadata": {
            "tags": []
          },
          "execution_count": 33
        }
      ]
    },
    {
      "cell_type": "code",
      "metadata": {
        "colab": {
          "base_uri": "https://localhost:8080/"
        },
        "id": "aOscxiLdFNqR",
        "outputId": "7f172436-8283-4e00-a7c1-6d7793472d02"
      },
      "source": [
        "Nnpa2.shape"
      ],
      "execution_count": 34,
      "outputs": [
        {
          "output_type": "execute_result",
          "data": {
            "text/plain": [
              "(7, 2)"
            ]
          },
          "metadata": {
            "tags": []
          },
          "execution_count": 34
        }
      ]
    },
    {
      "cell_type": "markdown",
      "metadata": {
        "id": "NwISRKpEp5V6"
      },
      "source": [
        "Calculating g1 and g2 for the classification of test data."
      ]
    },
    {
      "cell_type": "code",
      "metadata": {
        "colab": {
          "base_uri": "https://localhost:8080/",
          "height": 412
        },
        "id": "26xxQfXqA_K5",
        "outputId": "0db44b87-2e72-4a0f-ccdf-131bdf8f22c8"
      },
      "source": [
        "tru=0\r\n",
        "for i in range(len(npa2)):\r\n",
        "  g1=np.matmul(Nnpa2[i],np.transpose(m1))-.5*(np.matmul(m1,np.transpose(m1))) \r\n",
        "  g2=np.matmul(Nnpa2[i],np.transpose(m2))-.5*(np.matmul(m2,np.transpose(m2))) \r\n",
        "  if g1>g2:\r\n",
        "    plt.plot(Nnpa2[i][0],Nnpa2[i][1],marker='+', c='red',label='Test Class 1')\r\n",
        "    if npa2[i][2]==1:\r\n",
        "      print(\"true for 1\")\r\n",
        "      tru+=1\r\n",
        "    else:\r\n",
        "      print(\"false for 1\")\r\n",
        "  else:\r\n",
        "    plt.plot(Nnpa2[i][0],Nnpa2[i][1],marker='X', c='black',label='Test Class 2')\r\n",
        "    if npa2[i][2]==2:\r\n",
        "      print(\"true for 2\")\r\n",
        "      tru+=1\r\n",
        "    else:\r\n",
        "      print(\"false for 2\")\r\n",
        "\r\n",
        "plt.plot(meanx1,meany1, marker='1', c='red',label='Mean Class 1')\r\n",
        "\r\n",
        "plt.plot(meanx2,meany2, marker='s', c='black',label='Mean Class 2')\r\n",
        "\r\n",
        "plt.scatter(x[L==1], y[L==1], marker='o', c='red',label='Train Class 1')\r\n",
        "plt.scatter(x[L==2], y[L==2], marker='*', c='black',label='Train Class 2')\r\n",
        "\r\n",
        "# plt.legend()"
      ],
      "execution_count": 35,
      "outputs": [
        {
          "output_type": "stream",
          "text": [
            "true for 1\n",
            "true for 1\n",
            "true for 2\n",
            "true for 1\n",
            "true for 1\n",
            "false for 2\n",
            "true for 2\n"
          ],
          "name": "stdout"
        },
        {
          "output_type": "execute_result",
          "data": {
            "text/plain": [
              "<matplotlib.collections.PathCollection at 0x7f68d42c7f98>"
            ]
          },
          "metadata": {
            "tags": []
          },
          "execution_count": 35
        },
        {
          "output_type": "display_data",
          "data": {
            "image/png": "[encoded data removed]",
            "text/plain": [
              "<Figure size 432x288 with 1 Axes>"
            ]
          },
          "metadata": {
            "tags": [],
            "needs_background": "light"
          }
        }
      ]
    },
    {
      "cell_type": "code",
      "metadata": {
        "colab": {
          "base_uri": "https://localhost:8080/"
        },
        "id": "p0G9a7Zo4s2C",
        "outputId": "ee4ef316-e955-4577-faa9-53a04978d7f3"
      },
      "source": [
        "lb1=np.amin(Nnpa1,axis=0)\r\n",
        "ub1=np.amax(Nnpa1,axis=0)\r\n",
        "print(lb1,ub1)\r\n",
        "lb2=np.amin(Nnpa2,axis=0)\r\n",
        "ub2=np.amax(Nnpa2,axis=0)\r\n",
        "print(lb2,ub2)"
      ],
      "execution_count": 36,
      "outputs": [
        {
          "output_type": "stream",
          "text": [
            "[-4 -3] [4 6]\n",
            "[-3 -5] [8 2]\n"
          ],
          "name": "stdout"
        }
      ]
    },
    {
      "cell_type": "code",
      "metadata": {
        "colab": {
          "base_uri": "https://localhost:8080/"
        },
        "id": "-3FWBwvz-ApA",
        "outputId": "7196d06c-4e3c-4722-d01f-4e3e66a26351"
      },
      "source": [
        "LB=np.minimum(lb1,lb2)\r\n",
        "UB=np.maximum(ub1,ub2)\r\n",
        "print(LB,UB)"
      ],
      "execution_count": 37,
      "outputs": [
        {
          "output_type": "stream",
          "text": [
            "[-4 -5] [8 6]\n"
          ],
          "name": "stdout"
        }
      ]
    },
    {
      "cell_type": "code",
      "metadata": {
        "colab": {
          "base_uri": "https://localhost:8080/"
        },
        "id": "LhzF5xdo0-1U",
        "outputId": "36f89156-caf8-496f-e677-0439bbf4b42a"
      },
      "source": [
        "dbx1=[]\r\n",
        "for i in range(-4,9,1):\r\n",
        "  dbx1.append(i)\r\n",
        "dbx1"
      ],
      "execution_count": 38,
      "outputs": [
        {
          "output_type": "execute_result",
          "data": {
            "text/plain": [
              "[-4, -3, -2, -1, 0, 1, 2, 3, 4, 5, 6, 7, 8]"
            ]
          },
          "metadata": {
            "tags": []
          },
          "execution_count": 38
        }
      ]
    },
    {
      "cell_type": "markdown",
      "metadata": {
        "id": "uF3I57dyqO2S"
      },
      "source": [
        "Calculating coefficients for decision boundary."
      ]
    },
    {
      "cell_type": "code",
      "metadata": {
        "colab": {
          "base_uri": "https://localhost:8080/"
        },
        "id": "hnHu-9DqFh0B",
        "outputId": "0f484381-3b31-4b03-f86c-ab58ac329f1d"
      },
      "source": [
        "coef=m1-m2\r\n",
        "coef"
      ],
      "execution_count": 39,
      "outputs": [
        {
          "output_type": "execute_result",
          "data": {
            "text/plain": [
              "array([[ 3. , -1.5]])"
            ]
          },
          "metadata": {
            "tags": []
          },
          "execution_count": 39
        }
      ]
    },
    {
      "cell_type": "code",
      "metadata": {
        "colab": {
          "base_uri": "https://localhost:8080/"
        },
        "id": "OtYHpg91Jm_y",
        "outputId": "c9329dc5-c760-4e79-8c90-c46edefd8785"
      },
      "source": [
        "coef[0][1]"
      ],
      "execution_count": 40,
      "outputs": [
        {
          "output_type": "execute_result",
          "data": {
            "text/plain": [
              "-1.5"
            ]
          },
          "metadata": {
            "tags": []
          },
          "execution_count": 40
        }
      ]
    },
    {
      "cell_type": "code",
      "metadata": {
        "id": "Sxixuf_PGZNC"
      },
      "source": [
        "dbx1=np.array(dbx1)\r\n",
        "coef=np.array(coef)"
      ],
      "execution_count": 41,
      "outputs": []
    },
    {
      "cell_type": "code",
      "metadata": {
        "colab": {
          "base_uri": "https://localhost:8080/"
        },
        "id": "Nqa6CC5qK7Cc",
        "outputId": "25382f4f-c880-4472-d1e9-a0db02d4dd20"
      },
      "source": [
        "coef.reshape(1,2)"
      ],
      "execution_count": 42,
      "outputs": [
        {
          "output_type": "execute_result",
          "data": {
            "text/plain": [
              "array([[ 3. , -1.5]])"
            ]
          },
          "metadata": {
            "tags": []
          },
          "execution_count": 42
        }
      ]
    },
    {
      "cell_type": "markdown",
      "metadata": {
        "id": "c6qlZnXQqXcD"
      },
      "source": [
        "Calculating constant for decision boundary."
      ]
    },
    {
      "cell_type": "code",
      "metadata": {
        "id": "h6kFT_8fGjtC"
      },
      "source": [
        "const=-0.5*np.linalg.det(np.dot(np.transpose(m1),m1)-np.dot(np.transpose(m2),m2))"
      ],
      "execution_count": 43,
      "outputs": []
    },
    {
      "cell_type": "code",
      "metadata": {
        "colab": {
          "base_uri": "https://localhost:8080/"
        },
        "id": "pM5CLu8kIhzj",
        "outputId": "ae497ac2-b5fb-49f8-b15d-53dfef6b4e40"
      },
      "source": [
        "const"
      ],
      "execution_count": 44,
      "outputs": [
        {
          "output_type": "execute_result",
          "data": {
            "text/plain": [
              "7.031250000000001"
            ]
          },
          "metadata": {
            "tags": []
          },
          "execution_count": 44
        }
      ]
    },
    {
      "cell_type": "code",
      "metadata": {
        "colab": {
          "base_uri": "https://localhost:8080/"
        },
        "id": "d0Z00GfrMTRG",
        "outputId": "adb55d72-1cc7-47e8-abda-d81ba3bc7d85"
      },
      "source": [
        "dbx1.shape"
      ],
      "execution_count": 45,
      "outputs": [
        {
          "output_type": "execute_result",
          "data": {
            "text/plain": [
              "(13,)"
            ]
          },
          "metadata": {
            "tags": []
          },
          "execution_count": 45
        }
      ]
    },
    {
      "cell_type": "code",
      "metadata": {
        "id": "J_upNFHy2jSk"
      },
      "source": [
        "dbx1=dbx1.reshape(1,13)"
      ],
      "execution_count": 46,
      "outputs": []
    },
    {
      "cell_type": "code",
      "metadata": {
        "id": "As8aT9nNMsB8"
      },
      "source": [
        "dbx2=[]\r\n",
        "dbx2=np.array(dbx2)\r\n",
        "dbx2=np.zeros(13)\r\n",
        "dbx2=dbx2.reshape(1,13)"
      ],
      "execution_count": 47,
      "outputs": []
    },
    {
      "cell_type": "markdown",
      "metadata": {
        "id": "Pd9RVa0zqeHF"
      },
      "source": [
        "Calculating y axis values for the DB."
      ]
    },
    {
      "cell_type": "code",
      "metadata": {
        "id": "Z7opSREQHXor"
      },
      "source": [
        "for i in range(len(dbx1)):\r\n",
        "  dbx2[i] = (coef[0][0]*dbx1[i]+const)/(-coef[0][1])"
      ],
      "execution_count": 48,
      "outputs": []
    },
    {
      "cell_type": "code",
      "metadata": {
        "colab": {
          "base_uri": "https://localhost:8080/"
        },
        "id": "K6JjN00CNNXy",
        "outputId": "29ed045b-aa5b-4c6a-8e54-149543eb25aa"
      },
      "source": [
        "dbx1.shape"
      ],
      "execution_count": 49,
      "outputs": [
        {
          "output_type": "execute_result",
          "data": {
            "text/plain": [
              "(1, 13)"
            ]
          },
          "metadata": {
            "tags": []
          },
          "execution_count": 49
        }
      ]
    },
    {
      "cell_type": "code",
      "metadata": {
        "colab": {
          "base_uri": "https://localhost:8080/"
        },
        "id": "8zqrx2FYNPoD",
        "outputId": "c372a23c-550e-45bd-8a61-91798389102d"
      },
      "source": [
        "dbx2.shape"
      ],
      "execution_count": 50,
      "outputs": [
        {
          "output_type": "execute_result",
          "data": {
            "text/plain": [
              "(1, 13)"
            ]
          },
          "metadata": {
            "tags": []
          },
          "execution_count": 50
        }
      ]
    },
    {
      "cell_type": "code",
      "metadata": {
        "id": "8gCguz574O84"
      },
      "source": [
        "dbx1=np.transpose(dbx1)\r\n",
        "dbx2=np.transpose(dbx2)"
      ],
      "execution_count": 51,
      "outputs": []
    },
    {
      "cell_type": "markdown",
      "metadata": {
        "id": "lcezAsIkq0mS"
      },
      "source": [
        "Plotting all the points along with decision boundary and legends."
      ]
    },
    {
      "cell_type": "code",
      "metadata": {
        "colab": {
          "base_uri": "https://localhost:8080/",
          "height": 483
        },
        "id": "PoPreH5ENT3D",
        "outputId": "4769bdd4-90f3-415a-ff68-7528dc1779e5"
      },
      "source": [
        "my_labels = { \r\n",
        "             \"x2\" : \"Test Class 1\", \"x3\" : \"Test Class 2\",\r\n",
        "             \"x4\" : \"Mean Class 1\", \"x5\" : \"Mean Class 2\",\r\n",
        "             \"x6\" : \"Train Class 1\", \"x7\" : \"Train Class 2\",\r\n",
        "             \"x1\" : \"Decision boundary\"}\r\n",
        "fig = plt.figure(figsize=(12,8))\r\n",
        "  \r\n",
        "for i in range(len(npa2)):\r\n",
        "  g1=np.matmul(Nnpa2[i],np.transpose(m1))-.5*(np.matmul(m1,np.transpose(m1))) \r\n",
        "  g2=np.matmul(Nnpa2[i],np.transpose(m2))-.5*(np.matmul(m2,np.transpose(m2))) \r\n",
        "  if g1>g2:\r\n",
        "    plt.plot(Nnpa2[i][0],Nnpa2[i][1],marker='P', c='red',label=my_labels[\"x2\"], ms=8)\r\n",
        "    my_labels[\"x2\"] = \"_nolegend_\"\r\n",
        "  else:\r\n",
        "    plt.plot(Nnpa2[i][0],Nnpa2[i][1],marker='X', c='black',label=my_labels[\"x3\"],ms=8)\r\n",
        "    my_labels[\"x3\"] = \"_nolegend_\"\r\n",
        "\r\n",
        "plt.plot(meanx1,meany1, marker='1', c='red',label=my_labels[\"x4\"],ms=12)\r\n",
        "my_labels[\"x4\"] = \"_nolegend_\"\r\n",
        "\r\n",
        "plt.plot(meanx2,meany2, marker='s', c='black',label=my_labels[\"x5\"])\r\n",
        "my_labels[\"x5\"] = \"_nolegend_\"\r\n",
        "\r\n",
        "plt.scatter(x[L==1], y[L==1], marker='o', c='red',label=my_labels[\"x6\"])\r\n",
        "my_labels[\"x6\"] = \"_nolegend_\"\r\n",
        "plt.scatter(x[L==2], y[L==2], marker='*', c='black',label=my_labels[\"x7\"])\r\n",
        "my_labels[\"x7\"] = \"_nolegend_\"\r\n",
        "\r\n",
        "# Plotting the decision boundary.\r\n",
        "for i in range(len(dbx1)):\r\n",
        "  plt.plot(dbx1,dbx2,c='red',linestyle='dashed',label=my_labels[\"x1\"])\r\n",
        "  my_labels[\"x1\"] = \"_nolegend_\"\r\n",
        "\r\n",
        "plt.legend()\r\n",
        "  \r\n",
        "\r\n",
        "plt.show() "
      ],
      "execution_count": 52,
      "outputs": [
        {
          "output_type": "display_data",
          "data": {
            "image/png": "[encoded data removed]",
            "text/plain": [
              "<Figure size 864x576 with 1 Axes>"
            ]
          },
          "metadata": {
            "tags": [],
            "needs_background": "light"
          }
        }
      ]
    },
    {
      "cell_type": "markdown",
      "metadata": {
        "id": "oiV6ZpRFMpGs"
      },
      "source": [
        "Accuraccy of the classifier"
      ]
    },
    {
      "cell_type": "code",
      "metadata": {
        "id": "iGJiDoiO6sEE",
        "colab": {
          "base_uri": "https://localhost:8080/"
        },
        "outputId": "d38cc62d-3951-4c40-fecf-50e1bd31c2a2"
      },
      "source": [
        "accuracy=tru/len(npa2)\r\n",
        "print(accuracy*100,\"%\")"
      ],
      "execution_count": 53,
      "outputs": [
        {
          "output_type": "stream",
          "text": [
            "85.71428571428571 %\n"
          ],
          "name": "stdout"
        }
      ]
    }
  ]
}