{
  "nbformat": 4,
  "nbformat_minor": 0,
  "metadata": {
    "colab": {
      "name": "Perceptron1.ipynb",
      "provenance": [],
      "collapsed_sections": []
    },
    "kernelspec": {
      "name": "python3",
      "display_name": "Python 3"
    }
  },
  "cells": [
    {
      "cell_type": "code",
      "metadata": {
        "colab": {
          "base_uri": "https://localhost:8080/"
        },
        "id": "i6S97lmjnc9-",
        "outputId": "12e8bab7-8b6d-4bf5-ff91-13ec88232f3b"
      },
      "source": [
        "from google.colab import drive\r\n",
        "drive.mount('/content/drive')"
      ],
      "execution_count": null,
      "outputs": [
        {
          "output_type": "stream",
          "text": [
            "Mounted at /content/drive\n"
          ],
          "name": "stdout"
        }
      ]
    },
    {
      "cell_type": "markdown",
      "metadata": {
        "id": "izUAwBzsoWaU"
      },
      "source": [
        "Read from txt & store in dataframe."
      ]
    },
    {
      "cell_type": "code",
      "metadata": {
        "id": "FfpdL88DsCLj"
      },
      "source": [
        "import pandas as pd \r\n",
        "df=pd.read_csv('/content/drive/MyDrive/train-perceptron.txt',sep='\\s+',header=None)\r\n",
        "df = pd.DataFrame(df)"
      ],
      "execution_count": null,
      "outputs": []
    },
    {
      "cell_type": "code",
      "metadata": {
        "id": "Yz_xOFAg5PAX"
      },
      "source": [
        "import matplotlib\r\n",
        "import matplotlib.pyplot as plt\r\n",
        "import numpy as np"
      ],
      "execution_count": null,
      "outputs": []
    },
    {
      "cell_type": "code",
      "metadata": {
        "colab": {
          "base_uri": "https://localhost:8080/",
          "height": 392
        },
        "id": "raQwEWUR7-2n",
        "outputId": "3a26e554-205c-445d-d10c-1174c58f0275"
      },
      "source": [
        "import matplotlib\r\n",
        "import matplotlib.pyplot as plt\r\n",
        "import numpy as np\r\n",
        "x = df[0]\r\n",
        "y = df[1]\r\n",
        "L = df[2]\r\n",
        "\r\n",
        "plt.rcParams[\"figure.figsize\"] = (9,6)\r\n",
        "plt.scatter(x[L==1], y[L==1], marker='o', c='red',label='Train Class 1')\r\n",
        "plt.scatter(x[L==2], y[L==2], marker='*', c='black',label='Train Class 2')\r\n",
        "plt.legend()"
      ],
      "execution_count": null,
      "outputs": [
        {
          "output_type": "execute_result",
          "data": {
            "text/plain": [
              "<matplotlib.legend.Legend at 0x7fcb38f1ea58>"
            ]
          },
          "metadata": {
            "tags": []
          },
          "execution_count": 7
        },
        {
          "output_type": "display_data",
          "data": {
            "image/png": "[encoded data removed]",
            "text/plain": [
              "<Figure size 648x432 with 1 Axes>"
            ]
          },
          "metadata": {
            "tags": [],
            "needs_background": "light"
          }
        }
      ]
    },
    {
      "cell_type": "code",
      "metadata": {
        "id": "LDl7IelK8C4q"
      },
      "source": [
        "x=x.to_numpy()\r\n",
        "y=y.to_numpy()\r\n",
        "L=L.to_numpy()"
      ],
      "execution_count": null,
      "outputs": []
    },
    {
      "cell_type": "code",
      "metadata": {
        "id": "RPPbKnOF8Mpt"
      },
      "source": [
        "train=[]\r\n",
        "for i in zip(zip(x,y),L):\r\n",
        "  train.append(i)"
      ],
      "execution_count": null,
      "outputs": []
    },
    {
      "cell_type": "code",
      "metadata": {
        "colab": {
          "base_uri": "https://localhost:8080/"
        },
        "id": "5fU6Xg7r8xZF",
        "outputId": "d565a415-6517-46eb-9e26-40984f94abe0"
      },
      "source": [
        "train"
      ],
      "execution_count": null,
      "outputs": [
        {
          "output_type": "execute_result",
          "data": {
            "text/plain": [
              "[((1, 1.0), 1),\n",
              " ((1, -1.0), 1),\n",
              " ((2, 2.5), 2),\n",
              " ((0, 2.0), 2),\n",
              " ((2, 3.0), 2),\n",
              " ((4, 5.0), 1)]"
            ]
          },
          "metadata": {
            "tags": []
          },
          "execution_count": 7
        }
      ]
    },
    {
      "cell_type": "code",
      "metadata": {
        "id": "TNUacHkj1hpn",
        "colab": {
          "base_uri": "https://localhost:8080/"
        },
        "outputId": "abe638e0-eaea-4667-b942-e6d47a0b03fd"
      },
      "source": [
        "train=np.array(train)"
      ],
      "execution_count": null,
      "outputs": [
        {
          "output_type": "stream",
          "text": [
            "/usr/local/lib/python3.6/dist-packages/ipykernel_launcher.py:1: VisibleDeprecationWarning: Creating an ndarray from ragged nested sequences (which is a list-or-tuple of lists-or-tuples-or ndarrays with different lengths or shapes) is deprecated. If you meant to do this, you must specify 'dtype=object' when creating the ndarray\n",
            "  \"\"\"Entry point for launching an IPython kernel.\n"
          ],
          "name": "stderr"
        }
      ]
    },
    {
      "cell_type": "code",
      "metadata": {
        "colab": {
          "base_uri": "https://localhost:8080/"
        },
        "id": "MRkAHeGL9MGC",
        "outputId": "0afc59c1-b657-49a7-85da-990aa5f37930"
      },
      "source": [
        "train"
      ],
      "execution_count": null,
      "outputs": [
        {
          "output_type": "execute_result",
          "data": {
            "text/plain": [
              "array([[(1, 1.0), 1],\n",
              "       [(1, -1.0), 1],\n",
              "       [(2, 2.5), 2],\n",
              "       [(0, 2.0), 2],\n",
              "       [(2, 3.0), 2],\n",
              "       [(4, 5.0), 1]], dtype=object)"
            ]
          },
          "metadata": {
            "tags": []
          },
          "execution_count": 9
        }
      ]
    },
    {
      "cell_type": "code",
      "metadata": {
        "id": "30Ig-Ge-9Vl9"
      },
      "source": [
        "tc1=[]\r\n",
        "tc2=[]\r\n",
        "for i in range(len(train)):\r\n",
        "  if train[i][1]==1:\r\n",
        "    tc1.append(train[i][0])\r\n",
        "  else:\r\n",
        "    tc2.append(train[i][0])"
      ],
      "execution_count": null,
      "outputs": []
    },
    {
      "cell_type": "code",
      "metadata": {
        "colab": {
          "base_uri": "https://localhost:8080/"
        },
        "id": "MsBz--u497gg",
        "outputId": "6735a031-f69b-4375-e382-147846da9a2d"
      },
      "source": [
        "tc2"
      ],
      "execution_count": null,
      "outputs": [
        {
          "output_type": "execute_result",
          "data": {
            "text/plain": [
              "[(2, 2.5), (0, 2.0), (2, 3.0)]"
            ]
          },
          "metadata": {
            "tags": []
          },
          "execution_count": 11
        }
      ]
    },
    {
      "cell_type": "code",
      "metadata": {
        "id": "Ac1165d2-Kxm"
      },
      "source": [
        "y=[]"
      ],
      "execution_count": null,
      "outputs": []
    },
    {
      "cell_type": "code",
      "metadata": {
        "id": "iePg5NXF_M0F"
      },
      "source": [
        "# k=[]\r\n",
        "# l=[]\r\n",
        "for i in range(3):\r\n",
        "    y.append((tc1[i][0])**2)\r\n",
        "    y.append((tc1[i][1])**2)\r\n",
        "    y.append(tc1[i][0]*tc1[i][1])\r\n",
        "    y.append(tc1[i][0])\r\n",
        "    y.append(tc1[i][1])\r\n",
        "    y.append(1)\r\n",
        "    y.append(-(tc2[i][0])**2)\r\n",
        "    y.append(-(tc2[i][1])**2)\r\n",
        "    y.append(-(tc2[i][0]*tc2[i][1]))\r\n",
        "    y.append(-tc2[i][0])\r\n",
        "    y.append(-tc2[i][1])\r\n",
        "    y.append(-1)\r\n",
        "    # k.append(tc1[i][j])\r\n",
        "    # l.append(tc2[i][j])"
      ],
      "execution_count": null,
      "outputs": []
    },
    {
      "cell_type": "code",
      "metadata": {
        "id": "ZGXRbQI7BUtu"
      },
      "source": [
        "y=np.array(y).reshape(6,6)\r\n",
        "# y=np.transpose(y)"
      ],
      "execution_count": null,
      "outputs": []
    },
    {
      "cell_type": "code",
      "metadata": {
        "colab": {
          "base_uri": "https://localhost:8080/"
        },
        "id": "yib1EOp0EE_o",
        "outputId": "c845b2a1-b662-4e6b-c1bb-14939fe9f72e"
      },
      "source": [
        "y"
      ],
      "execution_count": null,
      "outputs": [
        {
          "output_type": "execute_result",
          "data": {
            "text/plain": [
              "array([[ 1.  ,  1.  ,  1.  ,  1.  ,  1.  ,  1.  ],\n",
              "       [-4.  , -6.25, -5.  , -2.  , -2.5 , -1.  ],\n",
              "       [ 1.  ,  1.  , -1.  ,  1.  , -1.  ,  1.  ],\n",
              "       [ 0.  , -4.  , -0.  ,  0.  , -2.  , -1.  ],\n",
              "       [16.  , 25.  , 20.  ,  4.  ,  5.  ,  1.  ],\n",
              "       [-4.  , -9.  , -6.  , -2.  , -3.  , -1.  ]])"
            ]
          },
          "metadata": {
            "tags": []
          },
          "execution_count": 15
        }
      ]
    },
    {
      "cell_type": "code",
      "metadata": {
        "id": "kp9FQ7Z6GP1u"
      },
      "source": [
        "y=y[[0,2,4,1,3,5],:]"
      ],
      "execution_count": null,
      "outputs": []
    },
    {
      "cell_type": "code",
      "metadata": {
        "colab": {
          "base_uri": "https://localhost:8080/"
        },
        "id": "XwQDX-ohHYpn",
        "outputId": "8b317df9-0379-4461-cc23-9ea46c16d13e"
      },
      "source": [
        "y"
      ],
      "execution_count": null,
      "outputs": [
        {
          "output_type": "execute_result",
          "data": {
            "text/plain": [
              "array([[ 1.  ,  1.  ,  1.  ,  1.  ,  1.  ,  1.  ],\n",
              "       [ 1.  ,  1.  , -1.  ,  1.  , -1.  ,  1.  ],\n",
              "       [16.  , 25.  , 20.  ,  4.  ,  5.  ,  1.  ],\n",
              "       [-4.  , -6.25, -5.  , -2.  , -2.5 , -1.  ],\n",
              "       [ 0.  , -4.  , -0.  ,  0.  , -2.  , -1.  ],\n",
              "       [-4.  , -9.  , -6.  , -2.  , -3.  , -1.  ]])"
            ]
          },
          "metadata": {
            "tags": []
          },
          "execution_count": 17
        }
      ]
    },
    {
      "cell_type": "code",
      "metadata": {
        "id": "nfdlUNLwO8va"
      },
      "source": [
        "w=np.ones((1,6))"
      ],
      "execution_count": null,
      "outputs": []
    },
    {
      "cell_type": "code",
      "metadata": {
        "colab": {
          "base_uri": "https://localhost:8080/"
        },
        "id": "eCMpj-_DPsfb",
        "outputId": "278d0f5a-c836-447c-e7f3-3ee83e520cd2"
      },
      "source": [
        "w"
      ],
      "execution_count": null,
      "outputs": [
        {
          "output_type": "execute_result",
          "data": {
            "text/plain": [
              "array([[1., 1., 1., 1., 1., 1.]])"
            ]
          },
          "metadata": {
            "tags": []
          },
          "execution_count": 19
        }
      ]
    },
    {
      "cell_type": "code",
      "metadata": {
        "id": "ntaySSFFPu2u"
      },
      "source": [
        "lr=0.1"
      ],
      "execution_count": null,
      "outputs": []
    },
    {
      "cell_type": "code",
      "metadata": {
        "id": "dymJ2U6QPz8Q"
      },
      "source": [
        "flag,cnt=0,0"
      ],
      "execution_count": null,
      "outputs": []
    },
    {
      "cell_type": "code",
      "metadata": {
        "id": "JYUkoSeHQj2K"
      },
      "source": [
        "g=np.zeros((1,1))"
      ],
      "execution_count": null,
      "outputs": []
    },
    {
      "cell_type": "code",
      "metadata": {
        "colab": {
          "base_uri": "https://localhost:8080/"
        },
        "id": "s9yEkVB6QmzJ",
        "outputId": "dba59a78-6131-451e-aa5d-8ddd2cb35174"
      },
      "source": [
        "g"
      ],
      "execution_count": null,
      "outputs": [
        {
          "output_type": "execute_result",
          "data": {
            "text/plain": [
              "array([[0.]])"
            ]
          },
          "metadata": {
            "tags": []
          },
          "execution_count": 23
        }
      ]
    },
    {
      "cell_type": "code",
      "metadata": {
        "colab": {
          "base_uri": "https://localhost:8080/"
        },
        "id": "yw6HWdr3P4rQ",
        "outputId": "b1a9e901-9c38-43e7-d6fb-90eaf896a38f"
      },
      "source": [
        "lr=[0.1,0.2,0.3,0.4,0.5,0.6,0.7,0.8,0.9,1.0]\r\n",
        "resS1=[0]*len(lr)\r\n",
        "\r\n",
        "for j in range(len(lr)):\r\n",
        "  w=np.ones((1,6))\r\n",
        "  flag,cnt=0,0\r\n",
        "  g=np.zeros((1,1))\r\n",
        "  sum=0\r\n",
        "  while cnt<200:\r\n",
        "    cnt=cnt+1\r\n",
        "    flag=0\r\n",
        "    for i in range(6):\r\n",
        "      g=np.matmul(y[i,:],np.transpose(w))\r\n",
        "      if g<=0:\r\n",
        "        w=w+lr[j]*y[i,:]\r\n",
        "      else:\r\n",
        "        flag+=1\r\n",
        "    if flag==6:\r\n",
        "      break\r\n",
        "  print(\"\\nfor \",round(.1*(j+1),1),\"learning rate: \")\r\n",
        "  print(\"Updated W: \",w)\r\n",
        "  print(\"One at a time iteration: \",cnt)\r\n",
        "  resS1[j]=cnt\r\n",
        "print(\"\\nList of iterations for single update init with ones: \",resS1)\r\n"
      ],
      "execution_count": null,
      "outputs": [
        {
          "output_type": "stream",
          "text": [
            "\n",
            "for  0.1 learning rate: \n",
            "Updated W:  [[ 1.    -1.025  0.7    0.2   -0.75   0.1  ]]\n",
            "One at a time iteration:  6\n",
            "\n",
            "for  0.2 learning rate: \n",
            "Updated W:  [[10.  -6.7  4.4 -1.2 -9.4  3.2]]\n",
            "One at a time iteration:  92\n",
            "\n",
            "for  0.3 learning rate: \n",
            "Updated W:  [[ 16.3 -10.7   6.7  -2.3 -15.2   5.5]]\n",
            "One at a time iteration:  104\n",
            "\n",
            "for  0.4 learning rate: \n",
            "Updated W:  [[ 22.2 -14.3   9.8  -2.6 -20.4   7.4]]\n",
            "One at a time iteration:  106\n",
            "\n",
            "for  0.5 learning rate: \n",
            "Updated W:  [[ 25.   -16.75  11.    -3.   -23.5    8.  ]]\n",
            "One at a time iteration:  93\n",
            "\n",
            "for  0.6 learning rate: \n",
            "Updated W:  [[ 29.2 -18.5  12.4  -4.4 -27.8   9.4]]\n",
            "One at a time iteration:  93\n",
            "\n",
            "for  0.7 learning rate: \n",
            "Updated W:  [[ 38.8   -25.075  17.1    -4.6   -35.75   12.9  ]]\n",
            "One at a time iteration:  108\n",
            "\n",
            "for  0.8 learning rate: \n",
            "Updated W:  [[ 45.8 -31.2  19.4  -5.4 -42.6  16.2]]\n",
            "One at a time iteration:  115\n",
            "\n",
            "for  0.9 learning rate: \n",
            "Updated W:  [[ 45.1  -30.05  19.9   -5.3  -42.2   14.5 ]]\n",
            "One at a time iteration:  94\n",
            "\n",
            "for  1.0 learning rate: \n",
            "Updated W:  [[ 50.  -33.5  22.   -6.  -47.   16. ]]\n",
            "One at a time iteration:  94\n",
            "\n",
            "List of iterations for single update init with ones:  [6, 92, 104, 106, 93, 93, 108, 115, 94, 94]\n"
          ],
          "name": "stdout"
        }
      ]
    },
    {
      "cell_type": "code",
      "metadata": {
        "colab": {
          "base_uri": "https://localhost:8080/"
        },
        "id": "2rMgMwN5Rt75",
        "outputId": "6c657dd7-9377-4a4b-fe32-a8b91cd463d8"
      },
      "source": [
        "lr=[0.1,0.2,0.3,0.4,0.5,0.6,0.7,0.8,0.9,1.0]\r\n",
        "resM1=[0]*len(lr)\r\n",
        "\r\n",
        "for j in range(len(lr)):\r\n",
        "  sum=0\r\n",
        "  g=np.zeros((1,1))\r\n",
        "  flag,cnt=0,0\r\n",
        "  w=np.ones((1,6))\r\n",
        "  while cnt<200:\r\n",
        "    cnt=cnt+1\r\n",
        "    flag=0\r\n",
        "    sum=0\r\n",
        "    for i in range(6):\r\n",
        "      g=np.matmul(y[i,:],np.transpose(w))\r\n",
        "      if g<=0:\r\n",
        "        sum=sum+y[i,:]\r\n",
        "      else:\r\n",
        "        flag+=1\r\n",
        "    if flag==6:\r\n",
        "      break\r\n",
        "    w=w+ lr[j]*sum\r\n",
        "  print(\"\\nfor \",round(.1*(j+1),1),\"learning rate: \")\r\n",
        "  print(\"Updated W: \",w)\r\n",
        "  print(\"Many at a time iteration: \",cnt)\r\n",
        "  resM1[j]=cnt\r\n",
        "print(\"\\nList of iterations for batch update init with ones: \",resM1)"
      ],
      "execution_count": null,
      "outputs": [
        {
          "output_type": "stream",
          "text": [
            "\n",
            "for  0.1 learning rate: \n",
            "Updated W:  [[ 6.5   -4.425  2.8   -0.5   -5.45   1.2  ]]\n",
            "Many at a time iteration:  102\n",
            "\n",
            "for  0.2 learning rate: \n",
            "Updated W:  [[ 13.    -8.85   5.6   -1.   -10.9    2.4 ]]\n",
            "Many at a time iteration:  104\n",
            "\n",
            "for  0.3 learning rate: \n",
            "Updated W:  [[ 17.8   -11.825   7.9    -1.4   -15.05    2.8  ]]\n",
            "Many at a time iteration:  91\n",
            "\n",
            "for  0.4 learning rate: \n",
            "Updated W:  [[ 26.6 -18.   11.4  -2.2 -22.6   5.4]]\n",
            "Many at a time iteration:  116\n",
            "\n",
            "for  0.5 learning rate: \n",
            "Updated W:  [[ 32.5   -22.125  14.     -2.5   -27.25    6.   ]]\n",
            "Many at a time iteration:  105\n",
            "\n",
            "for  0.6 learning rate: \n",
            "Updated W:  [[ 40.  -26.9  17.2  -3.2 -33.8   8.2]]\n",
            "Many at a time iteration:  114\n",
            "\n",
            "for  0.7 learning rate: \n",
            "Updated W:  [[ 41.6   -27.525  18.5    -3.2   -35.05    6.6  ]]\n",
            "Many at a time iteration:  91\n",
            "\n",
            "for  0.8 learning rate: \n",
            "Updated W:  [[ 47.4 -31.6  21.   -3.8 -40.2   7.4]]\n",
            "Many at a time iteration:  91\n",
            "\n",
            "for  0.9 learning rate: \n",
            "Updated W:  [[ 57.7  -38.15  25.3   -5.3  -49.4   10.  ]]\n",
            "Many at a time iteration:  105\n",
            "\n",
            "for  1.0 learning rate: \n",
            "Updated W:  [[ 60.   -38.75  25.    -4.   -51.5   10.  ]]\n",
            "Many at a time iteration:  93\n",
            "\n",
            "List of iterations for batch update init with ones:  [102, 104, 91, 116, 105, 114, 91, 91, 105, 93]\n"
          ],
          "name": "stdout"
        }
      ]
    },
    {
      "cell_type": "code",
      "metadata": {
        "colab": {
          "base_uri": "https://localhost:8080/"
        },
        "id": "tTASfWItFycD",
        "outputId": "5db67d60-8d75-4b8f-b970-3bd4bb566755"
      },
      "source": [
        "lr=[0.1,0.2,0.3,0.4,0.5,0.6,0.7,0.8,0.9,1.0]\r\n",
        "resS2=[0]*len(lr)\r\n",
        "\r\n",
        "for j in range(len(lr)):\r\n",
        "  w=np.zeros((1,6))\r\n",
        "  flag,cnt=0,0\r\n",
        "  g=np.zeros((1,1))\r\n",
        "  sum=0\r\n",
        "  while cnt<200:\r\n",
        "    cnt=cnt+1\r\n",
        "    flag=0\r\n",
        "    for i in range(6):\r\n",
        "      g=np.matmul(y[i,:],np.transpose(w))\r\n",
        "      if g<=0:\r\n",
        "        w=w+lr[j]*y[i,:]\r\n",
        "      else:\r\n",
        "        flag+=1\r\n",
        "    if flag==6:\r\n",
        "      break\r\n",
        "  print(\"\\nfor \",round(.1*(j+1),1),\"learning rate: \")\r\n",
        "  print(\"Updated W: \",w)\r\n",
        "  print(\"One at a time iteration: \",cnt)\r\n",
        "  resS2[j]=cnt\r\n",
        "print(\"\\nList of iterations for single update init with zeros: \",resS2)"
      ],
      "execution_count": null,
      "outputs": [
        {
          "output_type": "stream",
          "text": [
            "\n",
            "for  0.1 learning rate: \n",
            "Updated W:  [[ 5.   -3.35  2.2  -0.6  -4.7   1.6 ]]\n",
            "One at a time iteration:  94\n",
            "\n",
            "for  0.2 learning rate: \n",
            "Updated W:  [[10.  -6.7  4.4 -1.2 -9.4  3.2]]\n",
            "One at a time iteration:  94\n",
            "\n",
            "for  0.3 learning rate: \n",
            "Updated W:  [[ 15.   -10.05   6.6   -1.8  -14.1    4.8 ]]\n",
            "One at a time iteration:  94\n",
            "\n",
            "for  0.4 learning rate: \n",
            "Updated W:  [[ 20.  -13.4   8.8  -2.4 -18.8   6.4]]\n",
            "One at a time iteration:  94\n",
            "\n",
            "for  0.5 learning rate: \n",
            "Updated W:  [[ 25.   -16.75  11.    -3.   -23.5    8.  ]]\n",
            "One at a time iteration:  94\n",
            "\n",
            "for  0.6 learning rate: \n",
            "Updated W:  [[ 30.  -20.1  13.2  -3.6 -28.2   9.6]]\n",
            "One at a time iteration:  94\n",
            "\n",
            "for  0.7 learning rate: \n",
            "Updated W:  [[ 35.   -23.45  15.4   -4.2  -32.9   11.2 ]]\n",
            "One at a time iteration:  94\n",
            "\n",
            "for  0.8 learning rate: \n",
            "Updated W:  [[ 40.  -26.8  17.6  -4.8 -37.6  12.8]]\n",
            "One at a time iteration:  94\n",
            "\n",
            "for  0.9 learning rate: \n",
            "Updated W:  [[ 45.   -30.15  19.8   -5.4  -42.3   14.4 ]]\n",
            "One at a time iteration:  94\n",
            "\n",
            "for  1.0 learning rate: \n",
            "Updated W:  [[ 50.  -33.5  22.   -6.  -47.   16. ]]\n",
            "One at a time iteration:  94\n",
            "\n",
            "List of iterations for single update init with zeros:  [94, 94, 94, 94, 94, 94, 94, 94, 94, 94]\n"
          ],
          "name": "stdout"
        }
      ]
    },
    {
      "cell_type": "code",
      "metadata": {
        "colab": {
          "base_uri": "https://localhost:8080/"
        },
        "id": "S1BfawSeF3OZ",
        "outputId": "7059cbcc-9dcd-4c76-f811-eb21ff9273cc"
      },
      "source": [
        "lr=[0.1,0.2,0.3,0.4,0.5,0.6,0.7,0.8,0.9,1.0]\r\n",
        "resM2=[0]*len(lr)\r\n",
        "for j in range(len(lr)):\r\n",
        "  sum=0\r\n",
        "  g=np.zeros((1,1))\r\n",
        "  flag,cnt=0,0\r\n",
        "  w=np.zeros((1,6))\r\n",
        "  while cnt<200:\r\n",
        "    cnt=cnt+1\r\n",
        "    flag=0\r\n",
        "    sum=0\r\n",
        "    for i in range(6):\r\n",
        "      g=np.matmul(y[i,:],np.transpose(w))\r\n",
        "      if g<=0:\r\n",
        "        sum=sum+y[i,:]\r\n",
        "      else:\r\n",
        "        flag+=1\r\n",
        "    if flag==6:\r\n",
        "      break\r\n",
        "    w=w+ lr[j]*sum\r\n",
        "  print(\"\\nfor \",round(.1*(j+1),1),\"learning rate: \")\r\n",
        "  print(\"Updated W: \",w)\r\n",
        "  print(\"Many at a time iteration: \",cnt)\r\n",
        "  resM2[j]=cnt\r\n",
        "print(\"\\nList of iterations for batch update init with zeros: \",resM2)"
      ],
      "execution_count": null,
      "outputs": [
        {
          "output_type": "stream",
          "text": [
            "\n",
            "for  0.1 learning rate: \n",
            "Updated W:  [[ 6.5   -4.425  2.8   -0.5   -5.45   1.2  ]]\n",
            "Many at a time iteration:  105\n",
            "\n",
            "for  0.2 learning rate: \n",
            "Updated W:  [[ 13.    -8.85   5.6   -1.   -10.9    2.4 ]]\n",
            "Many at a time iteration:  105\n",
            "\n",
            "for  0.3 learning rate: \n",
            "Updated W:  [[ 19.5   -13.275   8.4    -1.5   -16.35    3.6  ]]\n",
            "Many at a time iteration:  105\n",
            "\n",
            "for  0.4 learning rate: \n",
            "Updated W:  [[ 26.  -17.7  11.2  -2.  -21.8   4.8]]\n",
            "Many at a time iteration:  105\n",
            "\n",
            "for  0.5 learning rate: \n",
            "Updated W:  [[ 30.    -19.375  12.5    -2.    -25.75    5.   ]]\n",
            "Many at a time iteration:  92\n",
            "\n",
            "for  0.6 learning rate: \n",
            "Updated W:  [[ 39.   -26.55  16.8   -3.   -32.7    7.2 ]]\n",
            "Many at a time iteration:  105\n",
            "\n",
            "for  0.7 learning rate: \n",
            "Updated W:  [[ 42.    -27.125  17.5    -2.8   -36.05    7.   ]]\n",
            "Many at a time iteration:  92\n",
            "\n",
            "for  0.8 learning rate: \n",
            "Updated W:  [[ 52.  -35.4  22.4  -4.  -43.6   9.6]]\n",
            "Many at a time iteration:  105\n",
            "\n",
            "for  0.9 learning rate: \n",
            "Updated W:  [[ 58.5   -39.825  25.2    -4.5   -49.05   10.8  ]]\n",
            "Many at a time iteration:  105\n",
            "\n",
            "for  1.0 learning rate: \n",
            "Updated W:  [[ 60.   -38.75  25.    -4.   -51.5   10.  ]]\n",
            "Many at a time iteration:  92\n",
            "\n",
            "List of iterations for batch update init with zeros:  [105, 105, 105, 105, 92, 105, 92, 105, 105, 92]\n"
          ],
          "name": "stdout"
        }
      ]
    },
    {
      "cell_type": "code",
      "metadata": {
        "colab": {
          "base_uri": "https://localhost:8080/"
        },
        "id": "SSVgidrANJVL",
        "outputId": "448e3144-3e79-4717-fc5c-1a2a5bfc6116"
      },
      "source": [
        "lr=[0.1,0.2,0.3,0.4,0.5,0.6,0.7,0.8,0.9,1.0]\r\n",
        "resS3=[0]*len(lr)\r\n",
        "\r\n",
        "for j in range(len(lr)):\r\n",
        "  np.random.seed(10)\r\n",
        "  w = np.random.random((1, 6))\r\n",
        "  flag,cnt=0,0\r\n",
        "  g=np.zeros((1,1))\r\n",
        "  sum=0\r\n",
        "  while cnt<200:\r\n",
        "    cnt=cnt+1\r\n",
        "    flag=0\r\n",
        "    for i in range(6):\r\n",
        "      g=np.matmul(y[i,:],np.transpose(w))\r\n",
        "      if g<=0:\r\n",
        "        w=w+lr[j]*y[i,:]\r\n",
        "      else:\r\n",
        "        flag+=1\r\n",
        "    if flag==6:\r\n",
        "      break\r\n",
        "  print(\"\\nfor \",round(.1*(j+1),1),\"learning rate: \")\r\n",
        "  print(\"Updated W: \",w)\r\n",
        "  print(\"One at a time iteration: \",cnt)\r\n",
        "  resS3[j]=cnt\r\n",
        "print(\"\\nList of iterations for single update random init: \",resS3)"
      ],
      "execution_count": null,
      "outputs": [
        {
          "output_type": "stream",
          "text": [
            "\n",
            "for  0.1 learning rate: \n",
            "Updated W:  [[ 5.57132064 -3.67924805  2.43364823 -0.45119612 -4.80149299  1.42479665]]\n",
            "One at a time iteration:  97\n",
            "\n",
            "for  0.2 learning rate: \n",
            "Updated W:  [[10.57132064 -6.62924805  4.63364823 -1.45119612 -9.80149299  2.82479665]]\n",
            "One at a time iteration:  95\n",
            "\n",
            "for  0.3 learning rate: \n",
            "Updated W:  [[ 14.87132064  -9.72924805   6.33364823  -1.95119612 -13.90149299\n",
            "    4.42479665]]\n",
            "One at a time iteration:  93\n",
            "\n",
            "for  0.4 learning rate: \n",
            "Updated W:  [[ 20.77132064 -13.77924805   8.63364823  -2.45119612 -19.10149299\n",
            "    7.02479665]]\n",
            "One at a time iteration:  101\n",
            "\n",
            "for  0.5 learning rate: \n",
            "Updated W:  [[ 27.27132064 -17.10424805  11.63364823  -3.75119612 -25.25149299\n",
            "    8.72479665]]\n",
            "One at a time iteration:  106\n",
            "\n",
            "for  0.6 learning rate: \n",
            "Updated W:  [[ 33.77132064 -22.32924805  13.83364823  -4.65119612 -31.60149299\n",
            "   11.62479665]]\n",
            "One at a time iteration:  113\n",
            "\n",
            "for  0.7 learning rate: \n",
            "Updated W:  [[ 34.37132064 -22.02924805  14.63364823  -4.85119612 -32.40149299\n",
            "   10.72479665]]\n",
            "One at a time iteration:  94\n",
            "\n",
            "for  0.8 learning rate: \n",
            "Updated W:  [[ 46.37132064 -29.57924805  20.63364823  -6.45119612 -43.50149299\n",
            "   13.82479665]]\n",
            "One at a time iteration:  113\n",
            "\n",
            "for  0.9 learning rate: \n",
            "Updated W:  [[ 50.27132064 -32.60424805  22.23364823  -5.55119612 -45.85149299\n",
            "   16.42479665]]\n",
            "One at a time iteration:  108\n",
            "\n",
            "for  1.0 learning rate: \n",
            "Updated W:  [[ 52.77132064 -34.22924805  23.63364823  -7.25119612 -50.00149299\n",
            "   15.22479665]]\n",
            "One at a time iteration:  101\n",
            "\n",
            "List of iterations for single update random init:  [97, 95, 93, 101, 106, 113, 94, 113, 108, 101]\n"
          ],
          "name": "stdout"
        }
      ]
    },
    {
      "cell_type": "code",
      "metadata": {
        "colab": {
          "base_uri": "https://localhost:8080/"
        },
        "id": "J5ezoMKvNYrz",
        "outputId": "04bf614b-8165-4416-aee6-eeff93fb4ae7"
      },
      "source": [
        "lr=[0.1,0.2,0.3,0.4,0.5,0.6,0.7,0.8,0.9,1.0]\r\n",
        "resM3=[0]*len(lr)\r\n",
        "\r\n",
        "for j in range(len(lr)):\r\n",
        "  np.random.seed(10)\r\n",
        "  w = np.random.random((1, 6))\r\n",
        "  flag,cnt=0,0\r\n",
        "  g=np.zeros((1,1))\r\n",
        "  sum=0\r\n",
        "  while cnt<200:\r\n",
        "    cnt=cnt+1\r\n",
        "    flag=0\r\n",
        "    sum=0\r\n",
        "    for i in range(6):\r\n",
        "      g=np.matmul(y[i,:],np.transpose(w))\r\n",
        "      if g<=0:\r\n",
        "        sum=sum+y[i,:]\r\n",
        "      else:\r\n",
        "        flag+=1\r\n",
        "    if flag==6:\r\n",
        "      break\r\n",
        "    w=w+ lr[j]*sum\r\n",
        "  print(\"\\nfor \",round(.1*(j+1),1),\"learning rate: \")\r\n",
        "  print(\"Updated W: \",w)\r\n",
        "  print(\"Many at a time iteration: \",cnt)\r\n",
        "  resM3[j]=cnt\r\n",
        "print(\"\\nList of iterations for batch update random init: \",resM3)"
      ],
      "execution_count": null,
      "outputs": [
        {
          "output_type": "stream",
          "text": [
            "\n",
            "for  0.1 learning rate: \n",
            "Updated W:  [[ 5.77132064 -3.90424805  2.53364823 -0.25119612 -4.65149299  0.62479665]]\n",
            "Many at a time iteration:  84\n",
            "\n",
            "for  0.2 learning rate: \n",
            "Updated W:  [[ 12.17132064  -8.32924805   5.43364823  -0.65119612 -10.00149299\n",
            "    1.62479665]]\n",
            "Many at a time iteration:  91\n",
            "\n",
            "for  0.3 learning rate: \n",
            "Updated W:  [[ 20.27132064 -13.92924805   8.73364823  -1.35119612 -16.90149299\n",
            "    3.82479665]]\n",
            "Many at a time iteration:  117\n",
            "\n",
            "for  0.4 learning rate: \n",
            "Updated W:  [[ 28.77132064 -18.57924805  11.83364823  -2.45119612 -25.10149299\n",
            "    5.82479665]]\n",
            "Many at a time iteration:  133\n",
            "\n",
            "for  0.5 learning rate: \n",
            "Updated W:  [[ 30.27132064 -19.85424805  12.63364823  -1.75119612 -25.75149299\n",
            "    4.72479665]]\n",
            "Many at a time iteration:  90\n",
            "\n",
            "for  0.6 learning rate: \n",
            "Updated W:  [[ 39.77132064 -26.52924805  16.23364823  -2.25119612 -33.40149299\n",
            "    7.42479665]]\n",
            "Many at a time iteration:  105\n",
            "\n",
            "for  0.7 learning rate: \n",
            "Updated W:  [[ 39.97132064 -26.05424805  16.73364823  -2.05119612 -34.15149299\n",
            "    6.52479665]]\n",
            "Many at a time iteration:  88\n",
            "\n",
            "for  0.8 learning rate: \n",
            "Updated W:  [[ 59.97132064 -38.37924805  24.63364823  -5.65119612 -52.30149299\n",
            "   12.22479665]]\n",
            "Many at a time iteration:  138\n",
            "\n",
            "for  0.9 learning rate: \n",
            "Updated W:  [[ 67.37132064 -43.17924805  27.63364823  -6.45119612 -58.90149299\n",
            "   13.72479665]]\n",
            "Many at a time iteration:  138\n",
            "\n",
            "for  1.0 learning rate: \n",
            "Updated W:  [[ 77.77132064 -49.97924805  31.63364823  -6.25119612 -66.50149299\n",
            "   18.22479665]]\n",
            "Many at a time iteration:  150\n",
            "\n",
            "List of iterations for batch update random init:  [84, 91, 117, 133, 90, 105, 88, 138, 138, 150]\n"
          ],
          "name": "stdout"
        }
      ]
    },
    {
      "cell_type": "code",
      "metadata": {
        "colab": {
          "base_uri": "https://localhost:8080/",
          "height": 450
        },
        "id": "qgrhUTz-SyqS",
        "outputId": "f44a8609-9ae5-4214-bd9d-436234023f78"
      },
      "source": [
        "import numpy as np\r\n",
        "import matplotlib.pyplot as plt\r\n",
        "import pandas as pd\r\n",
        "plt.rcParams[\"figure.figsize\"] = (10,7)\r\n",
        "\r\n",
        "X = np.array(lr)\r\n",
        "Y = resS1\r\n",
        "Z = resM1\r\n",
        "\r\n",
        "df = pd.DataFrame(np.c_[Y,Z], index=X)\r\n",
        "df.plot.bar()\r\n",
        "\r\n",
        "plt.title(\"Weight Init with Ones\")\r\n",
        "plt.legend([\"One\", \"Many\"])\r\n",
        "plt.show()"
      ],
      "execution_count": null,
      "outputs": [
        {
          "output_type": "display_data",
          "data": {
            "image/png": "[encoded data removed]",
            "text/plain": [
              "<Figure size 720x504 with 1 Axes>"
            ]
          },
          "metadata": {
            "tags": [],
            "needs_background": "light"
          }
        }
      ]
    },
    {
      "cell_type": "code",
      "metadata": {
        "colab": {
          "base_uri": "https://localhost:8080/",
          "height": 450
        },
        "id": "61PTuq2wVEpD",
        "outputId": "87def69e-18d2-40b4-8536-e9b52b44eeda"
      },
      "source": [
        "import numpy as np\r\n",
        "import matplotlib.pyplot as plt\r\n",
        "import pandas as pd\r\n",
        "plt.rcParams[\"figure.figsize\"] = (10,7)\r\n",
        "\r\n",
        "X = np.array(lr)\r\n",
        "Y = resS2\r\n",
        "Z = resM2\r\n",
        "\r\n",
        "df = pd.DataFrame(np.c_[Y,Z], index=X)\r\n",
        "df.plot.bar()\r\n",
        "\r\n",
        "plt.title(\"Weight Init with Zeros\")\r\n",
        "plt.legend([\"One\", \"Many\"])\r\n",
        "plt.show()"
      ],
      "execution_count": null,
      "outputs": [
        {
          "output_type": "display_data",
          "data": {
            "image/png": "[encoded data removed]",
            "text/plain": [
              "<Figure size 720x504 with 1 Axes>"
            ]
          },
          "metadata": {
            "tags": [],
            "needs_background": "light"
          }
        }
      ]
    },
    {
      "cell_type": "code",
      "metadata": {
        "colab": {
          "base_uri": "https://localhost:8080/",
          "height": 450
        },
        "id": "TaOSXCT0VuOc",
        "outputId": "a780eb94-2298-4da0-fbf3-900026c81c41"
      },
      "source": [
        "import numpy as np\r\n",
        "import matplotlib.pyplot as plt\r\n",
        "import pandas as pd\r\n",
        "plt.rcParams[\"figure.figsize\"] = (10,7)\r\n",
        "\r\n",
        "X = np.array(lr)\r\n",
        "Y = resS3\r\n",
        "Z = resM3\r\n",
        "\r\n",
        "df = pd.DataFrame(np.c_[Y,Z], index=X)\r\n",
        "df.plot.bar()\r\n",
        "\r\n",
        "plt.title(\"Random Weight Init\")\r\n",
        "plt.legend([\"One\", \"Many\"])\r\n",
        "plt.show()"
      ],
      "execution_count": null,
      "outputs": [
        {
          "output_type": "display_data",
          "data": {
            "image/png": "[encoded data removed]",
            "text/plain": [
              "<Figure size 720x504 with 1 Axes>"
            ]
          },
          "metadata": {
            "tags": [],
            "needs_background": "light"
          }
        }
      ]
    }
  ]
}