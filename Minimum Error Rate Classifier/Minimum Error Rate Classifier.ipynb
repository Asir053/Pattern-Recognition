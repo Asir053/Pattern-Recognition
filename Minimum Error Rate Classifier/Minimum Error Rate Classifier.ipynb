{
  "nbformat": 4,
  "nbformat_minor": 0,
  "metadata": {
    "colab": {
      "name": "Minimum Error Rate.ipynb",
      "provenance": [],
      "collapsed_sections": []
    },
    "kernelspec": {
      "name": "python3",
      "display_name": "Python 3"
    }
  },
  "cells": [
    {
      "cell_type": "code",
      "metadata": {
        "colab": {
          "base_uri": "https://localhost:8080/"
        },
        "id": "rTSW_Px5gSeW",
        "outputId": "19efc417-f50d-4949-cc4b-89473124bd39"
      },
      "source": [
        "from google.colab import drive\r\n",
        "drive.mount('/content/drive')"
      ],
      "execution_count": 1,
      "outputs": [
        {
          "output_type": "stream",
          "text": [
            "Mounted at /content/drive\n"
          ],
          "name": "stdout"
        }
      ]
    },
    {
      "cell_type": "markdown",
      "metadata": {
        "id": "2n3PLhxEhv8j"
      },
      "source": [
        "Reading test data from text file"
      ]
    },
    {
      "cell_type": "code",
      "metadata": {
        "id": "aCEKitFYgh0z"
      },
      "source": [
        "import pandas as pd \r\n",
        "df=pd.read_csv('/content/drive/MyDrive/test-Minimum-Error-Rate-Classifier.txt',header=None)\r\n",
        "df = pd.DataFrame(df)"
      ],
      "execution_count": 2,
      "outputs": []
    },
    {
      "cell_type": "code",
      "metadata": {
        "id": "_oeK0IvosTtS"
      },
      "source": [
        "import matplotlib\r\n",
        "import matplotlib.pyplot as plt\r\n",
        "import numpy as np"
      ],
      "execution_count": 3,
      "outputs": []
    },
    {
      "cell_type": "code",
      "metadata": {
        "colab": {
          "base_uri": "https://localhost:8080/",
          "height": 238
        },
        "id": "B6xdUsSHs_P_",
        "outputId": "ade03c08-1e65-415c-fdeb-79ad7bd70267"
      },
      "source": [
        "df"
      ],
      "execution_count": 4,
      "outputs": [
        {
          "output_type": "execute_result",
          "data": {
            "text/html": [
              "<div>\n",
              "<style scoped>\n",
              "    .dataframe tbody tr th:only-of-type {\n",
              "        vertical-align: middle;\n",
              "    }\n",
              "\n",
              "    .dataframe tbody tr th {\n",
              "        vertical-align: top;\n",
              "    }\n",
              "\n",
              "    .dataframe thead th {\n",
              "        text-align: right;\n",
              "    }\n",
              "</style>\n",
              "<table border=\"1\" class=\"dataframe\">\n",
              "  <thead>\n",
              "    <tr style=\"text-align: right;\">\n",
              "      <th></th>\n",
              "      <th>0</th>\n",
              "      <th>1</th>\n",
              "    </tr>\n",
              "  </thead>\n",
              "  <tbody>\n",
              "    <tr>\n",
              "      <th>0</th>\n",
              "      <td>1</td>\n",
              "      <td>1.0</td>\n",
              "    </tr>\n",
              "    <tr>\n",
              "      <th>1</th>\n",
              "      <td>1</td>\n",
              "      <td>-1.0</td>\n",
              "    </tr>\n",
              "    <tr>\n",
              "      <th>2</th>\n",
              "      <td>4</td>\n",
              "      <td>5.0</td>\n",
              "    </tr>\n",
              "    <tr>\n",
              "      <th>3</th>\n",
              "      <td>-2</td>\n",
              "      <td>2.5</td>\n",
              "    </tr>\n",
              "    <tr>\n",
              "      <th>4</th>\n",
              "      <td>0</td>\n",
              "      <td>2.0</td>\n",
              "    </tr>\n",
              "    <tr>\n",
              "      <th>5</th>\n",
              "      <td>2</td>\n",
              "      <td>-3.0</td>\n",
              "    </tr>\n",
              "  </tbody>\n",
              "</table>\n",
              "</div>"
            ],
            "text/plain": [
              "   0    1\n",
              "0  1  1.0\n",
              "1  1 -1.0\n",
              "2  4  5.0\n",
              "3 -2  2.5\n",
              "4  0  2.0\n",
              "5  2 -3.0"
            ]
          },
          "metadata": {
            "tags": []
          },
          "execution_count": 4
        }
      ]
    },
    {
      "cell_type": "code",
      "metadata": {
        "id": "2XmyKagrsXDS"
      },
      "source": [
        "import matplotlib\r\n",
        "import matplotlib.pyplot as plt\r\n",
        "import numpy as np\r\n",
        "x = df[0]\r\n",
        "y = df[1]"
      ],
      "execution_count": 5,
      "outputs": []
    },
    {
      "cell_type": "code",
      "metadata": {
        "id": "PFDwd-Dwtm8V"
      },
      "source": [
        "x=x.to_numpy()\r\n",
        "y=y.to_numpy()"
      ],
      "execution_count": 6,
      "outputs": []
    },
    {
      "cell_type": "code",
      "metadata": {
        "id": "mpNtwyw3yaEx"
      },
      "source": [
        "test=[]\r\n",
        "for i in zip(x,y):\r\n",
        "  test.append(i)"
      ],
      "execution_count": 7,
      "outputs": []
    },
    {
      "cell_type": "code",
      "metadata": {
        "id": "XkTodm3NyvyZ"
      },
      "source": [
        "test=np.array(test)"
      ],
      "execution_count": 8,
      "outputs": []
    },
    {
      "cell_type": "code",
      "metadata": {
        "id": "zcRkSIOst0bn"
      },
      "source": [
        "mu1 = [0,0];\r\n",
        "Sigma1 = [[.25,.3],[.3,1]];\r\n",
        "mu2 = [2,2];\r\n",
        "Sigma2 = [[.5,0],[0,.5]];"
      ],
      "execution_count": 9,
      "outputs": []
    },
    {
      "cell_type": "code",
      "metadata": {
        "id": "CLLeB3XSwKRz"
      },
      "source": [
        "mu1=np.array(mu1);\r\n",
        "Sigma1=np.array(Sigma1);\r\n",
        "mu2=np.array(mu2);\r\n",
        "Sigma2=np.array(Sigma2);"
      ],
      "execution_count": 10,
      "outputs": []
    },
    {
      "cell_type": "code",
      "metadata": {
        "id": "Ojv-7t1k4Kxp"
      },
      "source": [
        "mu1=mu1.reshape(1,2)\r\n",
        "mu2=mu2.reshape(1,2)"
      ],
      "execution_count": 11,
      "outputs": []
    },
    {
      "cell_type": "markdown",
      "metadata": {
        "id": "B1axAxKOg5gi"
      },
      "source": [
        "Classification of test set according to discriminant function"
      ]
    },
    {
      "cell_type": "code",
      "metadata": {
        "colab": {
          "base_uri": "https://localhost:8080/"
        },
        "id": "zD_B26jijLqv",
        "outputId": "21ade57f-1add-4e15-f0c2-0f9a9faaa383"
      },
      "source": [
        "g1=np.zeros((1,1))\r\n",
        "g2=np.zeros((1,1))\r\n",
        "clss=[]\r\n",
        "for i in range(6):\r\n",
        "  g1= -np.log(2*np.pi)-0.5*np.log(np.linalg.det(Sigma1))-0.5*np.matmul(np.matmul((np.transpose((test[i]-mu1).reshape(2,1))),np.linalg.inv(Sigma1)),((test[i])-(mu1)).reshape(2,1))+np.log(0.5)\r\n",
        "  g2= -np.log(2*np.pi)-0.5*np.log(np.linalg.det(Sigma2))-0.5*np.matmul(np.matmul((np.transpose((test[i]-mu2).reshape(2,1))),np.linalg.inv(Sigma2)),((test[i])-(mu2)).reshape(2,1))+np.log(0.5)\r\n",
        "  print(g1)\r\n",
        "  print(g2)\r\n",
        "  if g1>g2:\r\n",
        "    print('Sample',i,'in Class 1')\r\n",
        "    clss.append(1)\r\n",
        "  else:\r\n",
        "    print('Sample',i,'in Class 2')\r\n",
        "    clss.append(2)\r\n"
      ],
      "execution_count": 12,
      "outputs": [
        {
          "output_type": "stream",
          "text": [
            "[[-3.64598352]]\n",
            "[[-3.83787707]]\n",
            "Sample 0 in Class 1\n",
            "[[-7.39598352]]\n",
            "[[-11.83787707]]\n",
            "Sample 1 in Class 1\n",
            "[[-33.64598352]]\n",
            "[[-14.83787707]]\n",
            "Sample 2 in Class 2\n",
            "[[-28.37254602]]\n",
            "[[-18.08787707]]\n",
            "Sample 3 in Class 2\n",
            "[[-4.73973352]]\n",
            "[[-5.83787707]]\n",
            "Sample 4 in Class 1\n",
            "[[-32.39598352]]\n",
            "[[-26.83787707]]\n",
            "Sample 5 in Class 2\n"
          ],
          "name": "stdout"
        }
      ]
    },
    {
      "cell_type": "code",
      "metadata": {
        "colab": {
          "base_uri": "https://localhost:8080/"
        },
        "id": "7y76FFnjqTQL",
        "outputId": "71db821b-98df-4212-aa70-e341d95182e9"
      },
      "source": [
        "new=[]\r\n",
        "for i in zip(test.tolist(),clss):\r\n",
        "  new.append(i)\r\n",
        "# new[0][0]\r\n",
        "# new[3][0]\r\n",
        "new"
      ],
      "execution_count": 13,
      "outputs": [
        {
          "output_type": "execute_result",
          "data": {
            "text/plain": [
              "[([1.0, 1.0], 1),\n",
              " ([1.0, -1.0], 1),\n",
              " ([4.0, 5.0], 2),\n",
              " ([-2.0, 2.5], 2),\n",
              " ([0.0, 2.0], 1),\n",
              " ([2.0, -3.0], 2)]"
            ]
          },
          "metadata": {
            "tags": []
          },
          "execution_count": 13
        }
      ]
    },
    {
      "cell_type": "code",
      "metadata": {
        "id": "FySNJIP1r8oE"
      },
      "source": [
        "C1=[]\r\n",
        "C2=[]\r\n",
        "for i in new:\r\n",
        "  if i[1]==1:\r\n",
        "    C1.append(list(i[0]))\r\n",
        "  else:\r\n",
        "    C2.append(list(i[0]))\r\n",
        "# list(C1[0])\r\n",
        "C1=np.array(C1)\r\n",
        "C2=np.array(C2)"
      ],
      "execution_count": 14,
      "outputs": []
    },
    {
      "cell_type": "code",
      "metadata": {
        "colab": {
          "base_uri": "https://localhost:8080/"
        },
        "id": "eZbTbImWukfo",
        "outputId": "489a7e28-f8d0-4b73-f930-998bb7d71e95"
      },
      "source": [
        "C1"
      ],
      "execution_count": 15,
      "outputs": [
        {
          "output_type": "execute_result",
          "data": {
            "text/plain": [
              "array([[ 1.,  1.],\n",
              "       [ 1., -1.],\n",
              "       [ 0.,  2.]])"
            ]
          },
          "metadata": {
            "tags": []
          },
          "execution_count": 15
        }
      ]
    },
    {
      "cell_type": "markdown",
      "metadata": {
        "id": "jMo2JxdihGm4"
      },
      "source": [
        "Plotting test classes"
      ]
    },
    {
      "cell_type": "code",
      "metadata": {
        "colab": {
          "base_uri": "https://localhost:8080/",
          "height": 392
        },
        "id": "l_0fg6HYsi_1",
        "outputId": "b32acf28-e5c8-426f-9232-54afdced034d"
      },
      "source": [
        "import matplotlib\r\n",
        "import matplotlib.pyplot as plt\r\n",
        "import numpy as np\r\n",
        "\r\n",
        "plt.rcParams[\"figure.figsize\"] = (9,6)\r\n",
        "plt.scatter(C1[:,0], C1[:,1], marker='o', c='red',s=70,label='Test Class 1')\r\n",
        "plt.scatter(C2[:,0], C2[:,1], marker='*', c='black',s=70,label='Test Class 2')\r\n",
        "plt.legend()"
      ],
      "execution_count": 16,
      "outputs": [
        {
          "output_type": "execute_result",
          "data": {
            "text/plain": [
              "<matplotlib.legend.Legend at 0x7f2e1777da10>"
            ]
          },
          "metadata": {
            "tags": []
          },
          "execution_count": 16
        },
        {
          "output_type": "display_data",
          "data": {
            "image/png": "[encoded data removed]",
            "text/plain": [
              "<Figure size 648x432 with 1 Axes>"
            ]
          },
          "metadata": {
            "tags": [],
            "needs_background": "light"
          }
        }
      ]
    },
    {
      "cell_type": "markdown",
      "metadata": {
        "id": "A4B3mazPhSxg"
      },
      "source": [
        "3D and 2D contour plot of Decision Regions along with Decision Boundaries"
      ]
    },
    {
      "cell_type": "code",
      "metadata": {
        "colab": {
          "base_uri": "https://localhost:8080/",
          "height": 357
        },
        "id": "gdu0bAuF7x-o",
        "outputId": "f9e02cc9-1a32-49dd-faed-dbfff59bd3af"
      },
      "source": [
        "import numpy as np\r\n",
        "import matplotlib.pyplot as plt\r\n",
        "from matplotlib import cm\r\n",
        "from mpl_toolkits.mplot3d import Axes3D\r\n",
        "\r\n",
        "# Our 2-dimensional distribution will be over variables X and Y\r\n",
        "N = 32\r\n",
        "X = np.linspace(-7, 7, N)\r\n",
        "Y = np.linspace(-7, 7, N)\r\n",
        "X, Y = np.meshgrid(X, Y)\r\n",
        "\r\n",
        "# Mean vector and covariance matrix\r\n",
        "mu1 = np.array([0., 0.])\r\n",
        "Sigma1 = np.array([[ .25 , 0.3], [.3,  1.]])\r\n",
        "mu2 = np.array([2.,2.])\r\n",
        "Sigma2 = np.array([[ .5 , 0.], [0.,  .5]])\r\n",
        "\r\n",
        "# Pack X and Y into a single 3-dimensional array\r\n",
        "pos = np.empty(X.shape + (2,))\r\n",
        "pos[:, :, 0] = X\r\n",
        "pos[:, :, 1] = Y\r\n",
        "# print(X)\r\n",
        "\r\n",
        "def multivariate_gaussian(pos, mu, Sigma):\r\n",
        "    n = mu.shape[0]\r\n",
        "    Sigma_det = np.linalg.det(Sigma)\r\n",
        "    Sigma_inv = np.linalg.inv(Sigma)\r\n",
        "    N = np.sqrt((2*np.pi)**n * Sigma_det)\r\n",
        "    fac = np.einsum('...k,kl,...l->...', pos-mu, Sigma_inv, pos-mu)\r\n",
        "    return np.exp(-fac / 2) / N\r\n",
        "\r\n",
        "Z1 = multivariate_gaussian(pos, mu1, Sigma1)\r\n",
        "# print(mu.shape[0])\r\n",
        "Z2 = multivariate_gaussian(pos, mu2, Sigma2)\r\n",
        "# Create a surface plot and projected filled contour plot under it.\r\n",
        "fig = plt.figure()\r\n",
        "ax = fig.gca(projection='3d')\r\n",
        "db=Z1-Z2\r\n",
        "\r\n",
        "\r\n",
        "ax.scatter(C1[:,0], C1[:,1], marker='o', c='red',s=60,label='Test Class 1',alpha= 1.0)\r\n",
        "ax.scatter(C2[:,0], C2[:,1], marker='*', c='black',s=160,label='Test Class 2',alpha= 1.0)\r\n",
        "\r\n",
        "\r\n",
        "ax.plot_surface(X, Y, Z1, rstride=3, cstride=3, linewidth=1, antialiased=True,\r\n",
        "                cmap=cm.inferno, alpha= .7)\r\n",
        "ax.plot_surface(X, Y, Z2, rstride=3, cstride=3, linewidth=1, antialiased=True,\r\n",
        "                cmap=cm.viridis, alpha= .4)\r\n",
        "ax.contourf(X, Y, db, zdir='z', offset=-0.15, cmap=cm.PuBu )\r\n",
        "\r\n",
        "ax.legend()\r\n",
        "\r\n",
        "# Adjust the limits, ticks and view angle\r\n",
        "ax.set_zlim(-0.15,0.2)\r\n",
        "ax.set_zticks(np.linspace(0,0.2,5))\r\n",
        "ax.view_init(27, -21)\r\n",
        "\r\n",
        "plt.show()"
      ],
      "execution_count": 17,
      "outputs": [
        {
          "output_type": "display_data",
          "data": {
            "image/png": "[encoded data removed]",
            "text/plain": [
              "<Figure size 648x432 with 1 Axes>"
            ]
          },
          "metadata": {
            "tags": [],
            "needs_background": "light"
          }
        }
      ]
    },
    {
      "cell_type": "code",
      "metadata": {
        "colab": {
          "base_uri": "https://localhost:8080/",
          "height": 357
        },
        "id": "aCQsDZaybAOi",
        "outputId": "926d8580-a276-467a-9820-4f66cc42d205"
      },
      "source": [
        "import numpy as np\r\n",
        "import matplotlib.pyplot as plt\r\n",
        "from matplotlib import cm\r\n",
        "from mpl_toolkits.mplot3d import Axes3D\r\n",
        "\r\n",
        "# Our 2-dimensional distribution will be over variables X and Y\r\n",
        "N = 32\r\n",
        "X = np.linspace(-7, 7, N)\r\n",
        "Y = np.linspace(-7, 7, N)\r\n",
        "X, Y = np.meshgrid(X, Y)\r\n",
        "\r\n",
        "# Mean vector and covariance matrix\r\n",
        "mu1 = np.array([0., 0.])\r\n",
        "Sigma1 = np.array([[ .25 , 0.3], [.3,  1.]])\r\n",
        "mu2 = np.array([2.,2.])\r\n",
        "Sigma2 = np.array([[ .5 , 0.], [0.,  .5]])\r\n",
        "\r\n",
        "# Pack X and Y into a single 3-dimensional array\r\n",
        "pos = np.empty(X.shape + (2,))\r\n",
        "pos[:, :, 0] = X\r\n",
        "pos[:, :, 1] = Y\r\n",
        "# print(X)\r\n",
        "\r\n",
        "def multivariate_gaussian(pos, mu, Sigma):\r\n",
        "    n = mu.shape[0]\r\n",
        "    Sigma_det = np.linalg.det(Sigma)\r\n",
        "    Sigma_inv = np.linalg.inv(Sigma)\r\n",
        "    N = np.sqrt((2*np.pi)**n * Sigma_det)\r\n",
        "    fac = np.einsum('...k,kl,...l->...', pos-mu, Sigma_inv, pos-mu)\r\n",
        "    return np.exp(-fac / 2) / N\r\n",
        "\r\n",
        "Z1 = multivariate_gaussian(pos, mu1, Sigma1)\r\n",
        "# print(mu.shape[0])\r\n",
        "Z2 = multivariate_gaussian(pos, mu2, Sigma2)\r\n",
        "# Create a surface plot and projected filled contour plot under it.\r\n",
        "fig = plt.figure()\r\n",
        "ax = fig.gca(projection='3d')\r\n",
        "db=Z1-Z2\r\n",
        "\r\n",
        "\r\n",
        "# ax.scatter(C1[:,0], C1[:,1], marker='o', c='red',s=60,label='Test Class 1',alpha= 1.0)\r\n",
        "# ax.scatter(C2[:,0], C2[:,1], marker='*', c='black',s=160,label='Test Class 2',alpha= 1.0)\r\n",
        "\r\n",
        "\r\n",
        "# ax.plot_surface(X, Y, Z, rstride=3, cstride=3, linewidth=1, antialiased=True,\r\n",
        "#                 cmap=cm.inferno, alpha= .7)\r\n",
        "# ax.plot_surface(X, Y, Z1, rstride=3, cstride=3, linewidth=1, antialiased=True,\r\n",
        "#                 cmap=cm.viridis, alpha= .4)\r\n",
        "ax.contourf(X, Y, db, zdir='z', offset=-0.15, cmap=cm.PuBu )\r\n",
        "\r\n",
        "# ax.legend()\r\n",
        "\r\n",
        "# Adjust the limits, ticks and view angle\r\n",
        "ax.set_zlim(-0.15,0.2)\r\n",
        "ax.set_zticks(np.linspace(0,0.2,5))\r\n",
        "ax.view_init(90, -90)\r\n",
        "\r\n",
        "plt.show()"
      ],
      "execution_count": 18,
      "outputs": [
        {
          "output_type": "display_data",
          "data": {
            "image/png": "[encoded data removed]",
            "text/plain": [
              "<Figure size 648x432 with 1 Axes>"
            ]
          },
          "metadata": {
            "tags": [],
            "needs_background": "light"
          }
        }
      ]
    }
  ]
}