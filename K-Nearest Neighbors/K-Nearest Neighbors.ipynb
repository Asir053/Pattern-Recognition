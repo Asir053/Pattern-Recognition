{
  "nbformat": 4,
  "nbformat_minor": 0,
  "metadata": {
    "colab": {
      "name": "KNN.ipynb",
      "provenance": [],
      "collapsed_sections": []
    },
    "kernelspec": {
      "name": "python3",
      "display_name": "Python 3"
    }
  },
  "cells": [
    {
      "cell_type": "code",
      "metadata": {
        "colab": {
          "base_uri": "https://localhost:8080/"
        },
        "id": "D0m22H9DeJ1y",
        "outputId": "b0d2eed9-339f-40ed-9515-08bd6d26ff4d"
      },
      "source": [
        "from google.colab import drive\r\n",
        "drive.mount('/content/drive')"
      ],
      "execution_count": null,
      "outputs": [
        {
          "output_type": "stream",
          "text": [
            "Mounted at /content/drive\n"
          ],
          "name": "stdout"
        }
      ]
    },
    {
      "cell_type": "code",
      "metadata": {
        "id": "iMwDyyMZe8kO"
      },
      "source": [
        "import pandas as pd \r\n",
        "df1=pd.read_csv('/content/drive/MyDrive/train_knn.txt',header=None)\r\n",
        "df1 = pd.DataFrame(df1)"
      ],
      "execution_count": null,
      "outputs": []
    },
    {
      "cell_type": "code",
      "metadata": {
        "id": "IEuzJMrZfHRu"
      },
      "source": [
        "import matplotlib\r\n",
        "import matplotlib.pyplot as plt\r\n",
        "import numpy as np"
      ],
      "execution_count": null,
      "outputs": []
    },
    {
      "cell_type": "code",
      "metadata": {
        "colab": {
          "base_uri": "https://localhost:8080/",
          "height": 489
        },
        "id": "Gk5j60SWfMkv",
        "outputId": "6c249f51-5f22-4727-e8a1-2815b68c5191"
      },
      "source": [
        "df1"
      ],
      "execution_count": null,
      "outputs": [
        {
          "output_type": "execute_result",
          "data": {
            "text/html": [
              "<div>\n",
              "<style scoped>\n",
              "    .dataframe tbody tr th:only-of-type {\n",
              "        vertical-align: middle;\n",
              "    }\n",
              "\n",
              "    .dataframe tbody tr th {\n",
              "        vertical-align: top;\n",
              "    }\n",
              "\n",
              "    .dataframe thead th {\n",
              "        text-align: right;\n",
              "    }\n",
              "</style>\n",
              "<table border=\"1\" class=\"dataframe\">\n",
              "  <thead>\n",
              "    <tr style=\"text-align: right;\">\n",
              "      <th></th>\n",
              "      <th>0</th>\n",
              "      <th>1</th>\n",
              "      <th>2</th>\n",
              "    </tr>\n",
              "  </thead>\n",
              "  <tbody>\n",
              "    <tr>\n",
              "      <th>0</th>\n",
              "      <td>7</td>\n",
              "      <td>7</td>\n",
              "      <td>1</td>\n",
              "    </tr>\n",
              "    <tr>\n",
              "      <th>1</th>\n",
              "      <td>7</td>\n",
              "      <td>4</td>\n",
              "      <td>1</td>\n",
              "    </tr>\n",
              "    <tr>\n",
              "      <th>2</th>\n",
              "      <td>6</td>\n",
              "      <td>4</td>\n",
              "      <td>1</td>\n",
              "    </tr>\n",
              "    <tr>\n",
              "      <th>3</th>\n",
              "      <td>7</td>\n",
              "      <td>5</td>\n",
              "      <td>1</td>\n",
              "    </tr>\n",
              "    <tr>\n",
              "      <th>4</th>\n",
              "      <td>7</td>\n",
              "      <td>6</td>\n",
              "      <td>1</td>\n",
              "    </tr>\n",
              "    <tr>\n",
              "      <th>5</th>\n",
              "      <td>6</td>\n",
              "      <td>7</td>\n",
              "      <td>1</td>\n",
              "    </tr>\n",
              "    <tr>\n",
              "      <th>6</th>\n",
              "      <td>6</td>\n",
              "      <td>6</td>\n",
              "      <td>1</td>\n",
              "    </tr>\n",
              "    <tr>\n",
              "      <th>7</th>\n",
              "      <td>3</td>\n",
              "      <td>4</td>\n",
              "      <td>2</td>\n",
              "    </tr>\n",
              "    <tr>\n",
              "      <th>8</th>\n",
              "      <td>2</td>\n",
              "      <td>3</td>\n",
              "      <td>2</td>\n",
              "    </tr>\n",
              "    <tr>\n",
              "      <th>9</th>\n",
              "      <td>3</td>\n",
              "      <td>2</td>\n",
              "      <td>2</td>\n",
              "    </tr>\n",
              "    <tr>\n",
              "      <th>10</th>\n",
              "      <td>4</td>\n",
              "      <td>3</td>\n",
              "      <td>2</td>\n",
              "    </tr>\n",
              "    <tr>\n",
              "      <th>11</th>\n",
              "      <td>3</td>\n",
              "      <td>3</td>\n",
              "      <td>2</td>\n",
              "    </tr>\n",
              "    <tr>\n",
              "      <th>12</th>\n",
              "      <td>4</td>\n",
              "      <td>4</td>\n",
              "      <td>2</td>\n",
              "    </tr>\n",
              "    <tr>\n",
              "      <th>13</th>\n",
              "      <td>1</td>\n",
              "      <td>4</td>\n",
              "      <td>2</td>\n",
              "    </tr>\n",
              "  </tbody>\n",
              "</table>\n",
              "</div>"
            ],
            "text/plain": [
              "    0  1  2\n",
              "0   7  7  1\n",
              "1   7  4  1\n",
              "2   6  4  1\n",
              "3   7  5  1\n",
              "4   7  6  1\n",
              "5   6  7  1\n",
              "6   6  6  1\n",
              "7   3  4  2\n",
              "8   2  3  2\n",
              "9   3  2  2\n",
              "10  4  3  2\n",
              "11  3  3  2\n",
              "12  4  4  2\n",
              "13  1  4  2"
            ]
          },
          "metadata": {
            "tags": []
          },
          "execution_count": 4
        }
      ]
    },
    {
      "cell_type": "code",
      "metadata": {
        "id": "uP7qUstTfQ7m"
      },
      "source": [
        "import pandas as pd \r\n",
        "df2 =pd.read_csv('/content/drive/MyDrive/test_knn.txt',header=None)\r\n",
        "df2 = pd.DataFrame(df2)"
      ],
      "execution_count": null,
      "outputs": []
    },
    {
      "cell_type": "code",
      "metadata": {
        "colab": {
          "base_uri": "https://localhost:8080/",
          "height": 332
        },
        "id": "HkS8RsoBfjrK",
        "outputId": "08ea0a4a-80a4-4958-9154-1a90e8683112"
      },
      "source": [
        "df2"
      ],
      "execution_count": null,
      "outputs": [
        {
          "output_type": "execute_result",
          "data": {
            "text/html": [
              "<div>\n",
              "<style scoped>\n",
              "    .dataframe tbody tr th:only-of-type {\n",
              "        vertical-align: middle;\n",
              "    }\n",
              "\n",
              "    .dataframe tbody tr th {\n",
              "        vertical-align: top;\n",
              "    }\n",
              "\n",
              "    .dataframe thead th {\n",
              "        text-align: right;\n",
              "    }\n",
              "</style>\n",
              "<table border=\"1\" class=\"dataframe\">\n",
              "  <thead>\n",
              "    <tr style=\"text-align: right;\">\n",
              "      <th></th>\n",
              "      <th>0</th>\n",
              "      <th>1</th>\n",
              "    </tr>\n",
              "  </thead>\n",
              "  <tbody>\n",
              "    <tr>\n",
              "      <th>0</th>\n",
              "      <td>3</td>\n",
              "      <td>7</td>\n",
              "    </tr>\n",
              "    <tr>\n",
              "      <th>1</th>\n",
              "      <td>7</td>\n",
              "      <td>7</td>\n",
              "    </tr>\n",
              "    <tr>\n",
              "      <th>2</th>\n",
              "      <td>4</td>\n",
              "      <td>3</td>\n",
              "    </tr>\n",
              "    <tr>\n",
              "      <th>3</th>\n",
              "      <td>2</td>\n",
              "      <td>8</td>\n",
              "    </tr>\n",
              "    <tr>\n",
              "      <th>4</th>\n",
              "      <td>3</td>\n",
              "      <td>5</td>\n",
              "    </tr>\n",
              "    <tr>\n",
              "      <th>5</th>\n",
              "      <td>1</td>\n",
              "      <td>2</td>\n",
              "    </tr>\n",
              "    <tr>\n",
              "      <th>6</th>\n",
              "      <td>4</td>\n",
              "      <td>8</td>\n",
              "    </tr>\n",
              "    <tr>\n",
              "      <th>7</th>\n",
              "      <td>8</td>\n",
              "      <td>3</td>\n",
              "    </tr>\n",
              "    <tr>\n",
              "      <th>8</th>\n",
              "      <td>8</td>\n",
              "      <td>4</td>\n",
              "    </tr>\n",
              "  </tbody>\n",
              "</table>\n",
              "</div>"
            ],
            "text/plain": [
              "   0  1\n",
              "0  3  7\n",
              "1  7  7\n",
              "2  4  3\n",
              "3  2  8\n",
              "4  3  5\n",
              "5  1  2\n",
              "6  4  8\n",
              "7  8  3\n",
              "8  8  4"
            ]
          },
          "metadata": {
            "tags": []
          },
          "execution_count": 6
        }
      ]
    },
    {
      "cell_type": "code",
      "metadata": {
        "id": "1aq1hURcfmnq"
      },
      "source": [
        "x1 = df1[0]\r\n",
        "y1 = df1[1]\r\n",
        "x2 = df2[0]\r\n",
        "y2 = df2[1]"
      ],
      "execution_count": null,
      "outputs": []
    },
    {
      "cell_type": "code",
      "metadata": {
        "colab": {
          "base_uri": "https://localhost:8080/",
          "height": 392
        },
        "id": "pX8oBwFyojuB",
        "outputId": "fff2fdec-2d19-46a4-fa5d-45b3c12bd068"
      },
      "source": [
        "L1 = df1[2]\r\n",
        "\r\n",
        "plt.rcParams[\"figure.figsize\"] = (9,6)\r\n",
        "plt.scatter(x1[L1==1], y1[L1==1], marker='o', c='red',s=70,label='Train Class 1')\r\n",
        "plt.scatter(x1[L1==2], y1[L1==2], marker='*', c='black',s=70,label='Train Class 2')\r\n",
        "plt.legend()"
      ],
      "execution_count": null,
      "outputs": [
        {
          "output_type": "execute_result",
          "data": {
            "text/plain": [
              "<matplotlib.legend.Legend at 0x7f53eb9ac510>"
            ]
          },
          "metadata": {
            "tags": []
          },
          "execution_count": 45
        },
        {
          "output_type": "display_data",
          "data": {
            "image/png": "[encoded data removed]",
            "text/plain": [
              "<Figure size 648x432 with 1 Axes>"
            ]
          },
          "metadata": {
            "tags": [],
            "needs_background": "light"
          }
        }
      ]
    },
    {
      "cell_type": "code",
      "metadata": {
        "id": "ThyG7x_zfxk3"
      },
      "source": [
        "x1=x1.to_numpy()\r\n",
        "y1=y1.to_numpy()\r\n",
        "\r\n",
        "x2=x2.to_numpy()\r\n",
        "y2=y2.to_numpy()"
      ],
      "execution_count": null,
      "outputs": []
    },
    {
      "cell_type": "code",
      "metadata": {
        "colab": {
          "base_uri": "https://localhost:8080/"
        },
        "id": "xgiM_VxUf5tt",
        "outputId": "539479b8-fb01-40d3-b4aa-4b71af4b49da"
      },
      "source": [
        "x1"
      ],
      "execution_count": null,
      "outputs": [
        {
          "output_type": "execute_result",
          "data": {
            "text/plain": [
              "array([7, 7, 6, 7, 7, 6, 6, 3, 2, 3, 4, 3, 4, 1])"
            ]
          },
          "metadata": {
            "tags": []
          },
          "execution_count": 10
        }
      ]
    },
    {
      "cell_type": "code",
      "metadata": {
        "id": "13_uax2UgWT4"
      },
      "source": [
        "train=[]\r\n",
        "for i in zip(x1,y1):\r\n",
        "  train.append(i)"
      ],
      "execution_count": null,
      "outputs": []
    },
    {
      "cell_type": "code",
      "metadata": {
        "id": "PgfShqxcgaOG"
      },
      "source": [
        "test=[]\r\n",
        "for i in zip(x2,y2):\r\n",
        "  test.append(i)"
      ],
      "execution_count": null,
      "outputs": []
    },
    {
      "cell_type": "code",
      "metadata": {
        "id": "Ups9PWRmglzP"
      },
      "source": [
        "train=np.array(train)\r\n",
        "test=np.array(test)"
      ],
      "execution_count": null,
      "outputs": []
    },
    {
      "cell_type": "code",
      "metadata": {
        "colab": {
          "base_uri": "https://localhost:8080/"
        },
        "id": "rqInU92ngtVW",
        "outputId": "e0e57357-60f6-4796-9584-4ffe223c19c7"
      },
      "source": [
        "train"
      ],
      "execution_count": null,
      "outputs": [
        {
          "output_type": "execute_result",
          "data": {
            "text/plain": [
              "array([[7, 7],\n",
              "       [7, 4],\n",
              "       [6, 4],\n",
              "       [7, 5],\n",
              "       [7, 6],\n",
              "       [6, 7],\n",
              "       [6, 6],\n",
              "       [3, 4],\n",
              "       [2, 3],\n",
              "       [3, 2],\n",
              "       [4, 3],\n",
              "       [3, 3],\n",
              "       [4, 4],\n",
              "       [1, 4]])"
            ]
          },
          "metadata": {
            "tags": []
          },
          "execution_count": 14
        }
      ]
    },
    {
      "cell_type": "code",
      "metadata": {
        "id": "tg5o-b5lg031"
      },
      "source": [
        "g=[]\r\n",
        "d=[]\r\n",
        "for i in range(len(test)):\r\n",
        "  for j in range(len(train)):\r\n",
        "    g.append([i,j])\r\n",
        "    d.append(((test[i][0]-train[j][0])**2+(test[i][1]-train[j][1])**2))    "
      ],
      "execution_count": null,
      "outputs": []
    },
    {
      "cell_type": "code",
      "metadata": {
        "colab": {
          "base_uri": "https://localhost:8080/"
        },
        "id": "R3RrM-Sch6xx",
        "outputId": "931d9d7e-4145-4bfe-c264-97fe638e4173"
      },
      "source": [
        "d"
      ],
      "execution_count": null,
      "outputs": [
        {
          "output_type": "execute_result",
          "data": {
            "text/plain": [
              "[16,\n",
              " 25,\n",
              " 18,\n",
              " 20,\n",
              " 17,\n",
              " 9,\n",
              " 10,\n",
              " 9,\n",
              " 17,\n",
              " 25,\n",
              " 17,\n",
              " 16,\n",
              " 10,\n",
              " 13,\n",
              " 0,\n",
              " 9,\n",
              " 10,\n",
              " 4,\n",
              " 1,\n",
              " 1,\n",
              " 2,\n",
              " 25,\n",
              " 41,\n",
              " 41,\n",
              " 25,\n",
              " 32,\n",
              " 18,\n",
              " 45,\n",
              " 25,\n",
              " 10,\n",
              " 5,\n",
              " 13,\n",
              " 18,\n",
              " 20,\n",
              " 13,\n",
              " 2,\n",
              " 4,\n",
              " 2,\n",
              " 0,\n",
              " 1,\n",
              " 1,\n",
              " 10,\n",
              " 26,\n",
              " 41,\n",
              " 32,\n",
              " 34,\n",
              " 29,\n",
              " 17,\n",
              " 20,\n",
              " 17,\n",
              " 25,\n",
              " 37,\n",
              " 29,\n",
              " 26,\n",
              " 20,\n",
              " 17,\n",
              " 20,\n",
              " 17,\n",
              " 10,\n",
              " 16,\n",
              " 17,\n",
              " 13,\n",
              " 10,\n",
              " 1,\n",
              " 5,\n",
              " 9,\n",
              " 5,\n",
              " 4,\n",
              " 2,\n",
              " 5,\n",
              " 61,\n",
              " 40,\n",
              " 29,\n",
              " 45,\n",
              " 52,\n",
              " 50,\n",
              " 41,\n",
              " 8,\n",
              " 2,\n",
              " 4,\n",
              " 10,\n",
              " 5,\n",
              " 13,\n",
              " 4,\n",
              " 10,\n",
              " 25,\n",
              " 20,\n",
              " 18,\n",
              " 13,\n",
              " 5,\n",
              " 8,\n",
              " 17,\n",
              " 29,\n",
              " 37,\n",
              " 25,\n",
              " 26,\n",
              " 16,\n",
              " 25,\n",
              " 17,\n",
              " 2,\n",
              " 5,\n",
              " 5,\n",
              " 10,\n",
              " 20,\n",
              " 13,\n",
              " 26,\n",
              " 36,\n",
              " 26,\n",
              " 16,\n",
              " 25,\n",
              " 17,\n",
              " 50,\n",
              " 10,\n",
              " 1,\n",
              " 4,\n",
              " 2,\n",
              " 5,\n",
              " 13,\n",
              " 8,\n",
              " 25,\n",
              " 37,\n",
              " 29,\n",
              " 17,\n",
              " 26,\n",
              " 16,\n",
              " 49]"
            ]
          },
          "metadata": {
            "tags": []
          },
          "execution_count": 16
        }
      ]
    },
    {
      "cell_type": "code",
      "metadata": {
        "colab": {
          "base_uri": "https://localhost:8080/"
        },
        "id": "J50Z0IrwigrW",
        "outputId": "5a3e7ecf-7177-4e25-f031-d23a579ba9e1"
      },
      "source": [
        "g"
      ],
      "execution_count": null,
      "outputs": [
        {
          "output_type": "execute_result",
          "data": {
            "text/plain": [
              "[[0, 0],\n",
              " [0, 1],\n",
              " [0, 2],\n",
              " [0, 3],\n",
              " [0, 4],\n",
              " [0, 5],\n",
              " [0, 6],\n",
              " [0, 7],\n",
              " [0, 8],\n",
              " [0, 9],\n",
              " [0, 10],\n",
              " [0, 11],\n",
              " [0, 12],\n",
              " [0, 13],\n",
              " [1, 0],\n",
              " [1, 1],\n",
              " [1, 2],\n",
              " [1, 3],\n",
              " [1, 4],\n",
              " [1, 5],\n",
              " [1, 6],\n",
              " [1, 7],\n",
              " [1, 8],\n",
              " [1, 9],\n",
              " [1, 10],\n",
              " [1, 11],\n",
              " [1, 12],\n",
              " [1, 13],\n",
              " [2, 0],\n",
              " [2, 1],\n",
              " [2, 2],\n",
              " [2, 3],\n",
              " [2, 4],\n",
              " [2, 5],\n",
              " [2, 6],\n",
              " [2, 7],\n",
              " [2, 8],\n",
              " [2, 9],\n",
              " [2, 10],\n",
              " [2, 11],\n",
              " [2, 12],\n",
              " [2, 13],\n",
              " [3, 0],\n",
              " [3, 1],\n",
              " [3, 2],\n",
              " [3, 3],\n",
              " [3, 4],\n",
              " [3, 5],\n",
              " [3, 6],\n",
              " [3, 7],\n",
              " [3, 8],\n",
              " [3, 9],\n",
              " [3, 10],\n",
              " [3, 11],\n",
              " [3, 12],\n",
              " [3, 13],\n",
              " [4, 0],\n",
              " [4, 1],\n",
              " [4, 2],\n",
              " [4, 3],\n",
              " [4, 4],\n",
              " [4, 5],\n",
              " [4, 6],\n",
              " [4, 7],\n",
              " [4, 8],\n",
              " [4, 9],\n",
              " [4, 10],\n",
              " [4, 11],\n",
              " [4, 12],\n",
              " [4, 13],\n",
              " [5, 0],\n",
              " [5, 1],\n",
              " [5, 2],\n",
              " [5, 3],\n",
              " [5, 4],\n",
              " [5, 5],\n",
              " [5, 6],\n",
              " [5, 7],\n",
              " [5, 8],\n",
              " [5, 9],\n",
              " [5, 10],\n",
              " [5, 11],\n",
              " [5, 12],\n",
              " [5, 13],\n",
              " [6, 0],\n",
              " [6, 1],\n",
              " [6, 2],\n",
              " [6, 3],\n",
              " [6, 4],\n",
              " [6, 5],\n",
              " [6, 6],\n",
              " [6, 7],\n",
              " [6, 8],\n",
              " [6, 9],\n",
              " [6, 10],\n",
              " [6, 11],\n",
              " [6, 12],\n",
              " [6, 13],\n",
              " [7, 0],\n",
              " [7, 1],\n",
              " [7, 2],\n",
              " [7, 3],\n",
              " [7, 4],\n",
              " [7, 5],\n",
              " [7, 6],\n",
              " [7, 7],\n",
              " [7, 8],\n",
              " [7, 9],\n",
              " [7, 10],\n",
              " [7, 11],\n",
              " [7, 12],\n",
              " [7, 13],\n",
              " [8, 0],\n",
              " [8, 1],\n",
              " [8, 2],\n",
              " [8, 3],\n",
              " [8, 4],\n",
              " [8, 5],\n",
              " [8, 6],\n",
              " [8, 7],\n",
              " [8, 8],\n",
              " [8, 9],\n",
              " [8, 10],\n",
              " [8, 11],\n",
              " [8, 12],\n",
              " [8, 13]]"
            ]
          },
          "metadata": {
            "tags": []
          },
          "execution_count": 17
        }
      ]
    },
    {
      "cell_type": "code",
      "metadata": {
        "colab": {
          "base_uri": "https://localhost:8080/"
        },
        "id": "ZjcmjZc4jkRG",
        "outputId": "8c56a7e4-02e8-4cb9-b1aa-3b8179941041"
      },
      "source": [
        "len(d)"
      ],
      "execution_count": null,
      "outputs": [
        {
          "output_type": "execute_result",
          "data": {
            "text/plain": [
              "126"
            ]
          },
          "metadata": {
            "tags": []
          },
          "execution_count": 18
        }
      ]
    },
    {
      "cell_type": "code",
      "metadata": {
        "id": "ACJPQzs7j1a3"
      },
      "source": [
        "p=[]\r\n",
        "for i in zip(g,d):\r\n",
        "  p.append(list(i))"
      ],
      "execution_count": null,
      "outputs": []
    },
    {
      "cell_type": "code",
      "metadata": {
        "colab": {
          "base_uri": "https://localhost:8080/"
        },
        "id": "pjWP_5qvlZim",
        "outputId": "4ed7530d-bee7-4337-f1f4-eaab3f9243d4"
      },
      "source": [
        "p"
      ],
      "execution_count": null,
      "outputs": [
        {
          "output_type": "execute_result",
          "data": {
            "text/plain": [
              "[[[0, 0], 16],\n",
              " [[0, 1], 25],\n",
              " [[0, 2], 18],\n",
              " [[0, 3], 20],\n",
              " [[0, 4], 17],\n",
              " [[0, 5], 9],\n",
              " [[0, 6], 10],\n",
              " [[0, 7], 9],\n",
              " [[0, 8], 17],\n",
              " [[0, 9], 25],\n",
              " [[0, 10], 17],\n",
              " [[0, 11], 16],\n",
              " [[0, 12], 10],\n",
              " [[0, 13], 13],\n",
              " [[1, 0], 0],\n",
              " [[1, 1], 9],\n",
              " [[1, 2], 10],\n",
              " [[1, 3], 4],\n",
              " [[1, 4], 1],\n",
              " [[1, 5], 1],\n",
              " [[1, 6], 2],\n",
              " [[1, 7], 25],\n",
              " [[1, 8], 41],\n",
              " [[1, 9], 41],\n",
              " [[1, 10], 25],\n",
              " [[1, 11], 32],\n",
              " [[1, 12], 18],\n",
              " [[1, 13], 45],\n",
              " [[2, 0], 25],\n",
              " [[2, 1], 10],\n",
              " [[2, 2], 5],\n",
              " [[2, 3], 13],\n",
              " [[2, 4], 18],\n",
              " [[2, 5], 20],\n",
              " [[2, 6], 13],\n",
              " [[2, 7], 2],\n",
              " [[2, 8], 4],\n",
              " [[2, 9], 2],\n",
              " [[2, 10], 0],\n",
              " [[2, 11], 1],\n",
              " [[2, 12], 1],\n",
              " [[2, 13], 10],\n",
              " [[3, 0], 26],\n",
              " [[3, 1], 41],\n",
              " [[3, 2], 32],\n",
              " [[3, 3], 34],\n",
              " [[3, 4], 29],\n",
              " [[3, 5], 17],\n",
              " [[3, 6], 20],\n",
              " [[3, 7], 17],\n",
              " [[3, 8], 25],\n",
              " [[3, 9], 37],\n",
              " [[3, 10], 29],\n",
              " [[3, 11], 26],\n",
              " [[3, 12], 20],\n",
              " [[3, 13], 17],\n",
              " [[4, 0], 20],\n",
              " [[4, 1], 17],\n",
              " [[4, 2], 10],\n",
              " [[4, 3], 16],\n",
              " [[4, 4], 17],\n",
              " [[4, 5], 13],\n",
              " [[4, 6], 10],\n",
              " [[4, 7], 1],\n",
              " [[4, 8], 5],\n",
              " [[4, 9], 9],\n",
              " [[4, 10], 5],\n",
              " [[4, 11], 4],\n",
              " [[4, 12], 2],\n",
              " [[4, 13], 5],\n",
              " [[5, 0], 61],\n",
              " [[5, 1], 40],\n",
              " [[5, 2], 29],\n",
              " [[5, 3], 45],\n",
              " [[5, 4], 52],\n",
              " [[5, 5], 50],\n",
              " [[5, 6], 41],\n",
              " [[5, 7], 8],\n",
              " [[5, 8], 2],\n",
              " [[5, 9], 4],\n",
              " [[5, 10], 10],\n",
              " [[5, 11], 5],\n",
              " [[5, 12], 13],\n",
              " [[5, 13], 4],\n",
              " [[6, 0], 10],\n",
              " [[6, 1], 25],\n",
              " [[6, 2], 20],\n",
              " [[6, 3], 18],\n",
              " [[6, 4], 13],\n",
              " [[6, 5], 5],\n",
              " [[6, 6], 8],\n",
              " [[6, 7], 17],\n",
              " [[6, 8], 29],\n",
              " [[6, 9], 37],\n",
              " [[6, 10], 25],\n",
              " [[6, 11], 26],\n",
              " [[6, 12], 16],\n",
              " [[6, 13], 25],\n",
              " [[7, 0], 17],\n",
              " [[7, 1], 2],\n",
              " [[7, 2], 5],\n",
              " [[7, 3], 5],\n",
              " [[7, 4], 10],\n",
              " [[7, 5], 20],\n",
              " [[7, 6], 13],\n",
              " [[7, 7], 26],\n",
              " [[7, 8], 36],\n",
              " [[7, 9], 26],\n",
              " [[7, 10], 16],\n",
              " [[7, 11], 25],\n",
              " [[7, 12], 17],\n",
              " [[7, 13], 50],\n",
              " [[8, 0], 10],\n",
              " [[8, 1], 1],\n",
              " [[8, 2], 4],\n",
              " [[8, 3], 2],\n",
              " [[8, 4], 5],\n",
              " [[8, 5], 13],\n",
              " [[8, 6], 8],\n",
              " [[8, 7], 25],\n",
              " [[8, 8], 37],\n",
              " [[8, 9], 29],\n",
              " [[8, 10], 17],\n",
              " [[8, 11], 26],\n",
              " [[8, 12], 16],\n",
              " [[8, 13], 49]]"
            ]
          },
          "metadata": {
            "tags": []
          },
          "execution_count": 20
        }
      ]
    },
    {
      "cell_type": "code",
      "metadata": {
        "colab": {
          "base_uri": "https://localhost:8080/"
        },
        "id": "lIoGxbAvp41n",
        "outputId": "2bc9689c-8da6-4654-c0e0-998c1af74215"
      },
      "source": [
        "p=np.array(p)"
      ],
      "execution_count": null,
      "outputs": [
        {
          "output_type": "stream",
          "text": [
            "/usr/local/lib/python3.7/dist-packages/ipykernel_launcher.py:1: VisibleDeprecationWarning: Creating an ndarray from ragged nested sequences (which is a list-or-tuple of lists-or-tuples-or ndarrays with different lengths or shapes) is deprecated. If you meant to do this, you must specify 'dtype=object' when creating the ndarray\n",
            "  \"\"\"Entry point for launching an IPython kernel.\n"
          ],
          "name": "stderr"
        }
      ]
    },
    {
      "cell_type": "code",
      "metadata": {
        "colab": {
          "base_uri": "https://localhost:8080/"
        },
        "id": "hQ9y8av_qcz3",
        "outputId": "16dda9b4-0dbf-4b4e-ef92-597da8e8e19c"
      },
      "source": [
        "np.vsplit(p,9)"
      ],
      "execution_count": null,
      "outputs": [
        {
          "output_type": "execute_result",
          "data": {
            "text/plain": [
              "[array([[list([0, 0]), 16],\n",
              "        [list([0, 1]), 25],\n",
              "        [list([0, 2]), 18],\n",
              "        [list([0, 3]), 20],\n",
              "        [list([0, 4]), 17],\n",
              "        [list([0, 5]), 9],\n",
              "        [list([0, 6]), 10],\n",
              "        [list([0, 7]), 9],\n",
              "        [list([0, 8]), 17],\n",
              "        [list([0, 9]), 25],\n",
              "        [list([0, 10]), 17],\n",
              "        [list([0, 11]), 16],\n",
              "        [list([0, 12]), 10],\n",
              "        [list([0, 13]), 13]], dtype=object), array([[list([1, 0]), 0],\n",
              "        [list([1, 1]), 9],\n",
              "        [list([1, 2]), 10],\n",
              "        [list([1, 3]), 4],\n",
              "        [list([1, 4]), 1],\n",
              "        [list([1, 5]), 1],\n",
              "        [list([1, 6]), 2],\n",
              "        [list([1, 7]), 25],\n",
              "        [list([1, 8]), 41],\n",
              "        [list([1, 9]), 41],\n",
              "        [list([1, 10]), 25],\n",
              "        [list([1, 11]), 32],\n",
              "        [list([1, 12]), 18],\n",
              "        [list([1, 13]), 45]], dtype=object), array([[list([2, 0]), 25],\n",
              "        [list([2, 1]), 10],\n",
              "        [list([2, 2]), 5],\n",
              "        [list([2, 3]), 13],\n",
              "        [list([2, 4]), 18],\n",
              "        [list([2, 5]), 20],\n",
              "        [list([2, 6]), 13],\n",
              "        [list([2, 7]), 2],\n",
              "        [list([2, 8]), 4],\n",
              "        [list([2, 9]), 2],\n",
              "        [list([2, 10]), 0],\n",
              "        [list([2, 11]), 1],\n",
              "        [list([2, 12]), 1],\n",
              "        [list([2, 13]), 10]], dtype=object), array([[list([3, 0]), 26],\n",
              "        [list([3, 1]), 41],\n",
              "        [list([3, 2]), 32],\n",
              "        [list([3, 3]), 34],\n",
              "        [list([3, 4]), 29],\n",
              "        [list([3, 5]), 17],\n",
              "        [list([3, 6]), 20],\n",
              "        [list([3, 7]), 17],\n",
              "        [list([3, 8]), 25],\n",
              "        [list([3, 9]), 37],\n",
              "        [list([3, 10]), 29],\n",
              "        [list([3, 11]), 26],\n",
              "        [list([3, 12]), 20],\n",
              "        [list([3, 13]), 17]], dtype=object), array([[list([4, 0]), 20],\n",
              "        [list([4, 1]), 17],\n",
              "        [list([4, 2]), 10],\n",
              "        [list([4, 3]), 16],\n",
              "        [list([4, 4]), 17],\n",
              "        [list([4, 5]), 13],\n",
              "        [list([4, 6]), 10],\n",
              "        [list([4, 7]), 1],\n",
              "        [list([4, 8]), 5],\n",
              "        [list([4, 9]), 9],\n",
              "        [list([4, 10]), 5],\n",
              "        [list([4, 11]), 4],\n",
              "        [list([4, 12]), 2],\n",
              "        [list([4, 13]), 5]], dtype=object), array([[list([5, 0]), 61],\n",
              "        [list([5, 1]), 40],\n",
              "        [list([5, 2]), 29],\n",
              "        [list([5, 3]), 45],\n",
              "        [list([5, 4]), 52],\n",
              "        [list([5, 5]), 50],\n",
              "        [list([5, 6]), 41],\n",
              "        [list([5, 7]), 8],\n",
              "        [list([5, 8]), 2],\n",
              "        [list([5, 9]), 4],\n",
              "        [list([5, 10]), 10],\n",
              "        [list([5, 11]), 5],\n",
              "        [list([5, 12]), 13],\n",
              "        [list([5, 13]), 4]], dtype=object), array([[list([6, 0]), 10],\n",
              "        [list([6, 1]), 25],\n",
              "        [list([6, 2]), 20],\n",
              "        [list([6, 3]), 18],\n",
              "        [list([6, 4]), 13],\n",
              "        [list([6, 5]), 5],\n",
              "        [list([6, 6]), 8],\n",
              "        [list([6, 7]), 17],\n",
              "        [list([6, 8]), 29],\n",
              "        [list([6, 9]), 37],\n",
              "        [list([6, 10]), 25],\n",
              "        [list([6, 11]), 26],\n",
              "        [list([6, 12]), 16],\n",
              "        [list([6, 13]), 25]], dtype=object), array([[list([7, 0]), 17],\n",
              "        [list([7, 1]), 2],\n",
              "        [list([7, 2]), 5],\n",
              "        [list([7, 3]), 5],\n",
              "        [list([7, 4]), 10],\n",
              "        [list([7, 5]), 20],\n",
              "        [list([7, 6]), 13],\n",
              "        [list([7, 7]), 26],\n",
              "        [list([7, 8]), 36],\n",
              "        [list([7, 9]), 26],\n",
              "        [list([7, 10]), 16],\n",
              "        [list([7, 11]), 25],\n",
              "        [list([7, 12]), 17],\n",
              "        [list([7, 13]), 50]], dtype=object), array([[list([8, 0]), 10],\n",
              "        [list([8, 1]), 1],\n",
              "        [list([8, 2]), 4],\n",
              "        [list([8, 3]), 2],\n",
              "        [list([8, 4]), 5],\n",
              "        [list([8, 5]), 13],\n",
              "        [list([8, 6]), 8],\n",
              "        [list([8, 7]), 25],\n",
              "        [list([8, 8]), 37],\n",
              "        [list([8, 9]), 29],\n",
              "        [list([8, 10]), 17],\n",
              "        [list([8, 11]), 26],\n",
              "        [list([8, 12]), 16],\n",
              "        [list([8, 13]), 49]], dtype=object)]"
            ]
          },
          "metadata": {
            "tags": []
          },
          "execution_count": 22
        }
      ]
    },
    {
      "cell_type": "code",
      "metadata": {
        "colab": {
          "base_uri": "https://localhost:8080/"
        },
        "id": "m9RWr6A1qzko",
        "outputId": "5f4b275b-831e-4468-e8a5-29630488d0ed"
      },
      "source": [
        "np.vsplit(p,9)[0]"
      ],
      "execution_count": null,
      "outputs": [
        {
          "output_type": "execute_result",
          "data": {
            "text/plain": [
              "array([[list([0, 0]), 16],\n",
              "       [list([0, 1]), 25],\n",
              "       [list([0, 2]), 18],\n",
              "       [list([0, 3]), 20],\n",
              "       [list([0, 4]), 17],\n",
              "       [list([0, 5]), 9],\n",
              "       [list([0, 6]), 10],\n",
              "       [list([0, 7]), 9],\n",
              "       [list([0, 8]), 17],\n",
              "       [list([0, 9]), 25],\n",
              "       [list([0, 10]), 17],\n",
              "       [list([0, 11]), 16],\n",
              "       [list([0, 12]), 10],\n",
              "       [list([0, 13]), 13]], dtype=object)"
            ]
          },
          "metadata": {
            "tags": []
          },
          "execution_count": 23
        }
      ]
    },
    {
      "cell_type": "code",
      "metadata": {
        "id": "45IbyNwmrIl1"
      },
      "source": [
        "e=np.vsplit(p,9)"
      ],
      "execution_count": null,
      "outputs": []
    },
    {
      "cell_type": "code",
      "metadata": {
        "id": "2NFe0G3ZvsG3"
      },
      "source": [
        "e=list(e)"
      ],
      "execution_count": null,
      "outputs": []
    },
    {
      "cell_type": "code",
      "metadata": {
        "id": "iZLtyTuoA7hj"
      },
      "source": [
        "l1=df1[2]\r\n",
        "l1=l1.to_numpy()"
      ],
      "execution_count": null,
      "outputs": []
    },
    {
      "cell_type": "code",
      "metadata": {
        "id": "PcjWnTIbA8Jq"
      },
      "source": [
        "l1=list(l1)"
      ],
      "execution_count": null,
      "outputs": []
    },
    {
      "cell_type": "code",
      "metadata": {
        "colab": {
          "base_uri": "https://localhost:8080/"
        },
        "id": "S6U4pZ5GxF0J",
        "outputId": "86892902-64eb-4e08-977b-4eab1e88de4a"
      },
      "source": [
        "k=0\r\n",
        "k=int(input(\"Enter value of k: \"))"
      ],
      "execution_count": null,
      "outputs": [
        {
          "output_type": "stream",
          "text": [
            "Enter value of k: 3\n"
          ],
          "name": "stdout"
        }
      ]
    },
    {
      "cell_type": "code",
      "metadata": {
        "colab": {
          "base_uri": "https://localhost:8080/"
        },
        "id": "gu58BTJWtHDI",
        "outputId": "c5286ace-5190-4614-b08a-3bfec5070b58"
      },
      "source": [
        "clss=[]\r\n",
        "new=[]\r\n",
        "for i in range(9):\r\n",
        "  se=list(e[i])\r\n",
        "  se.sort(key=lambda x:x[1])\r\n",
        "  a=test[i][0]\r\n",
        "  b=test[i][1]\r\n",
        "  print(f\"Test point: ({a},{b})\")\r\n",
        "  for j in range(k):\r\n",
        "    # print(\"From test data:\",test[i], \"To train data no:\",se[j][0][1],\"Train data class:\",l1[se[j][0][1]],\" Distance:\",se[j][1])\r\n",
        "    print(\"Distance\",j+1,\":\",se[j][1],\"   Class:\",l1[se[j][0][1]])\r\n",
        "    new.append(l1[se[j][0][1]])\r\n",
        "\r\n",
        "    if(j==k-1):\r\n",
        "      # print(new)\r\n",
        "      clss.append(max(set(new),key=new.count))\r\n",
        "      print(\"Predicted class:\", max(set(new),key=new.count),\"\\n\")\r\n",
        "      new=[]  "
      ],
      "execution_count": null,
      "outputs": [
        {
          "output_type": "stream",
          "text": [
            "Test point: (3,7)\n",
            "Distance 1 : 9    Class: 1\n",
            "Distance 2 : 9    Class: 2\n",
            "Distance 3 : 10    Class: 1\n",
            "Predicted class: 1 \n",
            "\n",
            "Test point: (7,7)\n",
            "Distance 1 : 0    Class: 1\n",
            "Distance 2 : 1    Class: 1\n",
            "Distance 3 : 1    Class: 1\n",
            "Predicted class: 1 \n",
            "\n",
            "Test point: (4,3)\n",
            "Distance 1 : 0    Class: 2\n",
            "Distance 2 : 1    Class: 2\n",
            "Distance 3 : 1    Class: 2\n",
            "Predicted class: 2 \n",
            "\n",
            "Test point: (2,8)\n",
            "Distance 1 : 17    Class: 1\n",
            "Distance 2 : 17    Class: 2\n",
            "Distance 3 : 17    Class: 2\n",
            "Predicted class: 2 \n",
            "\n",
            "Test point: (3,5)\n",
            "Distance 1 : 1    Class: 2\n",
            "Distance 2 : 2    Class: 2\n",
            "Distance 3 : 4    Class: 2\n",
            "Predicted class: 2 \n",
            "\n",
            "Test point: (1,2)\n",
            "Distance 1 : 2    Class: 2\n",
            "Distance 2 : 4    Class: 2\n",
            "Distance 3 : 4    Class: 2\n",
            "Predicted class: 2 \n",
            "\n",
            "Test point: (4,8)\n",
            "Distance 1 : 5    Class: 1\n",
            "Distance 2 : 8    Class: 1\n",
            "Distance 3 : 10    Class: 1\n",
            "Predicted class: 1 \n",
            "\n",
            "Test point: (8,3)\n",
            "Distance 1 : 2    Class: 1\n",
            "Distance 2 : 5    Class: 1\n",
            "Distance 3 : 5    Class: 1\n",
            "Predicted class: 1 \n",
            "\n",
            "Test point: (8,4)\n",
            "Distance 1 : 1    Class: 1\n",
            "Distance 2 : 2    Class: 1\n",
            "Distance 3 : 4    Class: 1\n",
            "Predicted class: 1 \n",
            "\n"
          ],
          "name": "stdout"
        }
      ]
    },
    {
      "cell_type": "code",
      "metadata": {
        "colab": {
          "base_uri": "https://localhost:8080/"
        },
        "id": "97-6jbBA_06B",
        "outputId": "17a37881-fac5-47f5-eba8-a6cd20f1c44e"
      },
      "source": [
        "clss"
      ],
      "execution_count": null,
      "outputs": [
        {
          "output_type": "execute_result",
          "data": {
            "text/plain": [
              "[1, 1, 2, 2, 2, 2, 1, 1, 1]"
            ]
          },
          "metadata": {
            "tags": []
          },
          "execution_count": 30
        }
      ]
    },
    {
      "cell_type": "code",
      "metadata": {
        "colab": {
          "base_uri": "https://localhost:8080/"
        },
        "id": "sOprWAwXrMXT",
        "outputId": "d9eaa249-63bb-49fd-c0f3-f71969ae1f1e"
      },
      "source": [
        "test"
      ],
      "execution_count": null,
      "outputs": [
        {
          "output_type": "execute_result",
          "data": {
            "text/plain": [
              "array([[3, 7],\n",
              "       [7, 7],\n",
              "       [4, 3],\n",
              "       [2, 8],\n",
              "       [3, 5],\n",
              "       [1, 2],\n",
              "       [4, 8],\n",
              "       [8, 3],\n",
              "       [8, 4]])"
            ]
          },
          "metadata": {
            "tags": []
          },
          "execution_count": 31
        }
      ]
    },
    {
      "cell_type": "code",
      "metadata": {
        "colab": {
          "base_uri": "https://localhost:8080/"
        },
        "id": "LVdSdxzsq5gw",
        "outputId": "9d575cd3-2a32-47d8-8c4c-abb5fde038e3"
      },
      "source": [
        "test2=[]\r\n",
        "for i in zip(test.tolist(),clss):\r\n",
        "  test2.append(i)\r\n",
        "  \r\n",
        "test2"
      ],
      "execution_count": null,
      "outputs": [
        {
          "output_type": "execute_result",
          "data": {
            "text/plain": [
              "[([3, 7], 1),\n",
              " ([7, 7], 1),\n",
              " ([4, 3], 2),\n",
              " ([2, 8], 2),\n",
              " ([3, 5], 2),\n",
              " ([1, 2], 2),\n",
              " ([4, 8], 1),\n",
              " ([8, 3], 1),\n",
              " ([8, 4], 1)]"
            ]
          },
          "metadata": {
            "tags": []
          },
          "execution_count": 32
        }
      ]
    },
    {
      "cell_type": "code",
      "metadata": {
        "id": "o2hkP0lKrhCR"
      },
      "source": [
        "C1=[]\r\n",
        "C2=[]\r\n",
        "for i in test2:\r\n",
        "  if i[1]==1:\r\n",
        "    C1.append(list(i[0]))\r\n",
        "  else:\r\n",
        "    C2.append(list(i[0]))\r\n",
        "# list(C1[0])\r\n",
        "C1=np.array(C1)\r\n",
        "C2=np.array(C2)"
      ],
      "execution_count": null,
      "outputs": []
    },
    {
      "cell_type": "code",
      "metadata": {
        "colab": {
          "base_uri": "https://localhost:8080/"
        },
        "id": "vTiSOBpZrltp",
        "outputId": "91cf8e02-7b19-4f00-f25a-0a63fa1118d2"
      },
      "source": [
        "C1"
      ],
      "execution_count": null,
      "outputs": [
        {
          "output_type": "execute_result",
          "data": {
            "text/plain": [
              "array([[3, 7],\n",
              "       [7, 7],\n",
              "       [4, 8],\n",
              "       [8, 3],\n",
              "       [8, 4]])"
            ]
          },
          "metadata": {
            "tags": []
          },
          "execution_count": 34
        }
      ]
    },
    {
      "cell_type": "code",
      "metadata": {
        "colab": {
          "base_uri": "https://localhost:8080/",
          "height": 392
        },
        "id": "S4I6MFcprtRZ",
        "outputId": "8a14e8cb-ee3c-4f3e-c603-8f5a35656dce"
      },
      "source": [
        "import matplotlib\r\n",
        "import matplotlib.pyplot as plt\r\n",
        "import numpy as np\r\n",
        "\r\n",
        "plt.rcParams[\"figure.figsize\"] = (11,6)\r\n",
        "plt.scatter(C1[:,0], C1[:,1], marker='v', c='red',s=70,label='Test Class 1')\r\n",
        "plt.scatter(C2[:,0], C2[:,1], marker='P', c='black',s=70,label='Test Class 2')\r\n",
        "plt.legend()"
      ],
      "execution_count": null,
      "outputs": [
        {
          "output_type": "execute_result",
          "data": {
            "text/plain": [
              "<matplotlib.legend.Legend at 0x7f53ebc03850>"
            ]
          },
          "metadata": {
            "tags": []
          },
          "execution_count": 42
        },
        {
          "output_type": "display_data",
          "data": {
            "image/png": "[encoded data removed]",
            "text/plain": [
              "<Figure size 792x432 with 1 Axes>"
            ]
          },
          "metadata": {
            "tags": [],
            "needs_background": "light"
          }
        }
      ]
    },
    {
      "cell_type": "code",
      "metadata": {
        "id": "1JVVe6wi_1Pk",
        "colab": {
          "base_uri": "https://localhost:8080/",
          "height": 392
        },
        "outputId": "8cd7beba-4204-4fd0-ca2d-955ed060ccb2"
      },
      "source": [
        "import matplotlib\r\n",
        "import matplotlib.pyplot as plt\r\n",
        "import numpy as np\r\n",
        "\r\n",
        "plt.rcParams[\"figure.figsize\"] = (13,6)\r\n",
        "plt.scatter(x1[L1==1], y1[L1==1], marker='o', c='red',s=70,label='Train Class 1')\r\n",
        "plt.scatter(x1[L1==2], y1[L1==2], marker='*', c='black',s=70,label='Train Class 2')\r\n",
        "plt.scatter(C1[:,0], C1[:,1], marker='v', c='red',s=70,label='Test Class 1')\r\n",
        "plt.scatter(C2[:,0], C2[:,1], marker='P', c='black',s=70,label='Test Class 2')\r\n",
        "plt.legend()"
      ],
      "execution_count": null,
      "outputs": [
        {
          "output_type": "execute_result",
          "data": {
            "text/plain": [
              "<matplotlib.legend.Legend at 0x7f53eba0c690>"
            ]
          },
          "metadata": {
            "tags": []
          },
          "execution_count": 44
        },
        {
          "output_type": "display_data",
          "data": {
            "image/png": "[encoded data removed]",
            "text/plain": [
              "<Figure size 936x432 with 1 Axes>"
            ]
          },
          "metadata": {
            "tags": [],
            "needs_background": "light"
          }
        }
      ]
    },
    {
      "cell_type": "code",
      "metadata": {
        "id": "FT85rMvCwREy"
      },
      "source": [
        ""
      ],
      "execution_count": null,
      "outputs": []
    }
  ]
}